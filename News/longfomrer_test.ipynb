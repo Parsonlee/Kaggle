{
 "cells": [
  {
   "cell_type": "markdown",
   "metadata": {},
   "source": [
    "# 新闻文本分类\n",
    "tianchi: https://tianchi.aliyun.com/competition/entrance/531810/information"
   ]
  },
  {
   "cell_type": "markdown",
   "metadata": {},
   "source": [
    "***此模型由于硬件原因未训练成功***\n",
    "\n",
    "使用来自Hugging Face的LongformerForSequenceClassification，这是专门用来处理长文本的的BERT模型。顶部添加了单个线性层进行分类，用作句子分类器。当我们输入数据时，整个预训练的Longformer模型和额外的未经训练的分类层在我们的特定任务中进行训练。"
   ]
  },
  {
   "cell_type": "markdown",
   "metadata": {},
   "source": [
    "## Import"
   ]
  },
  {
   "cell_type": "code",
   "execution_count": 4,
   "metadata": {
    "id": "9etHV127gsYY"
   },
   "outputs": [],
   "source": [
    "import pandas as pd\n",
    "import numpy as np\n",
    "import seaborn as sns\n",
    "\n",
    "import torch\n",
    "from torch.utils.data import Dataset, DataLoader\n",
    "import torch.nn.functional as F\n",
    "# from sklearn.model_selection import train_test_split\n",
    "import pytorch_lightning as pl\n",
    "from pytorch_lightning.callbacks import ModelCheckpoint\n",
    "from torchmetrics.functional import f1_score\n",
    "\n",
    "from transformers import AutoTokenizer, BertForSequenceClassification, LongformerForSequenceClassification, LongformerConfig"
   ]
  },
  {
   "cell_type": "markdown",
   "metadata": {},
   "source": [
    "计算f1分数"
   ]
  },
  {
   "cell_type": "code",
   "execution_count": 5,
   "metadata": {},
   "outputs": [
    {
     "data": {
      "text/plain": [
       "tensor(0.3333)"
      ]
     },
     "execution_count": 5,
     "metadata": {},
     "output_type": "execute_result"
    }
   ],
   "source": [
    "target = torch.tensor([0., 1., 2., 0., 1., 2.])\n",
    "preds = torch.tensor([0., 2., 1., 0., 0., 1.])\n",
    "target = target.type(torch.int32)\n",
    "preds = preds.type(torch.int32)\n",
    "f1_score(preds, target, num_classes=3)\n",
    "# preds, target"
   ]
  },
  {
   "cell_type": "markdown",
   "metadata": {},
   "source": [
    "## Data"
   ]
  },
  {
   "cell_type": "code",
   "execution_count": 2,
   "metadata": {},
   "outputs": [
    {
     "data": {
      "text/plain": [
       "((200000, 2), (50000, 1))"
      ]
     },
     "execution_count": 2,
     "metadata": {},
     "output_type": "execute_result"
    }
   ],
   "source": [
    "train_set = pd.read_csv('./data/train_set.csv', sep='\\t')\n",
    "test_set = pd.read_csv('./data/test_a.csv', sep='\\t')\n",
    "train_set.shape, test_set.shape"
   ]
  },
  {
   "cell_type": "code",
   "execution_count": 6,
   "metadata": {},
   "outputs": [
    {
     "name": "stdout",
     "output_type": "stream",
     "text": [
      "   label                                               text\n",
      "0      2  2967 6758 339 2021 1854 3731 4109 3792 4149 15...\n",
      "1     11  4464 486 6352 5619 2465 4802 1452 3137 5778 54...\n",
      "2      3  7346 4068 5074 3747 5681 6093 1777 2226 7354 6...\n",
      "3      2  7159 948 4866 2109 5520 2490 211 3956 5520 549...\n",
      "4      3  3646 3055 3055 2490 4659 6065 3370 5814 2465 5...\n",
      "5120\n"
     ]
    }
   ],
   "source": [
    "print(train_set.head())\n",
    "print(len(train_set['text'][0]))"
   ]
  },
  {
   "cell_type": "markdown",
   "metadata": {},
   "source": [
    "查看一下训练集每篇新闻长度的情况"
   ]
  },
  {
   "cell_type": "code",
   "execution_count": 7,
   "metadata": {},
   "outputs": [
    {
     "data": {
      "text/plain": [
       "<seaborn.axisgrid.FacetGrid at 0x12a7e8070>"
      ]
     },
     "execution_count": 7,
     "metadata": {},
     "output_type": "execute_result"
    },
    {
     "data": {
      "image/png": "[encoded data removed]",
      "text/plain": [
       "<Figure size 360x360 with 1 Axes>"
      ]
     },
     "metadata": {},
     "output_type": "display_data"
    }
   ],
   "source": [
    "length = train_set['text'].apply(len)\n",
    "sns.displot(length, bins=50)"
   ]
  },
  {
   "cell_type": "markdown",
   "metadata": {},
   "source": [
    "查看测试集的长度情况"
   ]
  },
  {
   "cell_type": "code",
   "execution_count": 8,
   "metadata": {},
   "outputs": [
    {
     "data": {
      "text/plain": [
       "<seaborn.axisgrid.FacetGrid at 0x14eaeff40>"
      ]
     },
     "execution_count": 8,
     "metadata": {},
     "output_type": "execute_result"
    },
    {
     "data": {
      "image/png": "[encoded data removed]",
      "text/plain": [
       "<Figure size 360x360 with 1 Axes>"
      ]
     },
     "metadata": {},
     "output_type": "display_data"
    }
   ],
   "source": [
    "length = test_set['text'].apply(len)\n",
    "sns.displot(length, bins=50)"
   ]
  },
  {
   "cell_type": "markdown",
   "metadata": {},
   "source": [
    "## Process"
   ]
  },
  {
   "cell_type": "markdown",
   "metadata": {
    "id": "jZKENhBagsYh"
   },
   "source": [
    "格式化\n",
    "\n",
    "1. 填充特殊词元\n",
    "2. 将每个句子填充或截断为一个固定长度\n",
    "3. 使用`mask attention`显式区分真实词元和填充词元\n",
    "\n",
    "填充词元：\n",
    "* [SEP]，添加在每个句子的末尾\n",
    "* [CLS]，transformer层输出和输入长度相同的词嵌入向量，在分类时，只需要得到第一个词向量并进行分类即可"
   ]
  },
  {
   "cell_type": "markdown",
   "metadata": {},
   "source": [
    "创建数据集"
   ]
  },
  {
   "cell_type": "code",
   "execution_count": 9,
   "metadata": {},
   "outputs": [],
   "source": [
    "class CustomDataset(Dataset):\n",
    "\n",
    "    def __init__(self, df, tokenizer, max_len):\n",
    "        self.tokenizer = tokenizer\n",
    "        self.df = df\n",
    "        self.comment_text = self.df.text\n",
    "        self.max_len = max_len\n",
    "        if 'label' in self.df:\n",
    "            self.targets = self.df.label\n",
    "\n",
    "    def __len__(self):\n",
    "        return len(self.comment_text)\n",
    "\n",
    "    def __getitem__(self, index):\n",
    "        comment_text = self.comment_text[index]\n",
    "\n",
    "        encode_dict = self.tokenizer.encode_plus(\n",
    "            comment_text,\n",
    "            add_special_tokens=True,    # 添加特殊token [CLS], [SEP]\n",
    "            truncation=True,    # 是否截断超长句子\n",
    "            max_length=self.max_len,    # 句子最大长度\n",
    "            padding='max_length',   # 长度不够的填充至最大长度\n",
    "            return_attention_mask=True,  # 是否返回attention mask\n",
    "            return_tensors='pt', # 返回tensor类型\n",
    "        )\n",
    "        ids = encode_dict['input_ids']\n",
    "        mask = encode_dict['attention_mask']\n",
    "\n",
    "        ids = ids.squeeze(0)    # (1, max_len) -> (max_len)\n",
    "        mask = mask.squeeze(0)  # (1, max_len) -> (max_len)\n",
    "        \n",
    "        if 'label' in self.df:\n",
    "            target = self.targets[index]\n",
    "            return {\"ids\" : ids, \"mask\": mask, \"target\": target}\n",
    "        return {\"ids\": ids, \"mask\": mask}"
   ]
  },
  {
   "cell_type": "code",
   "execution_count": 10,
   "metadata": {},
   "outputs": [],
   "source": [
    "# tokenizer = AutoTokenizer.from_pretrained('bert-base-uncased')\n",
    "tokenizer = AutoTokenizer.from_pretrained('allenai/longformer-base-4096')"
   ]
  },
  {
   "cell_type": "code",
   "execution_count": 12,
   "metadata": {},
   "outputs": [],
   "source": [
    "max_len = 2048\n",
    "train_dataset = CustomDataset(train_set, tokenizer, max_len)\n",
    "test_dataset = CustomDataset(test_set, tokenizer, max_len)"
   ]
  },
  {
   "cell_type": "code",
   "execution_count": null,
   "metadata": {},
   "outputs": [],
   "source": [
    "# model = LongformerForSequenceClassification.from_pretrained(\"allenai/longformer-base-4096\", num_labels=14, output_attentions=False, output_hidden_states=False)\n",
    "# model.config\n",
    "\n",
    "# loader = DataLoader(train_dataset, batch_size=32, shuffle=True)\n",
    "# for batch in loader:\n",
    "#     print(batch['ids'].shape, batch['mask'].shape, batch['target'].shape)\n",
    "    # model = LongformerForSequenceClassification.from_pretrained(\"allenai/longformer-base-4096\", num_labels=14, output_attentions=False, output_hidden_states=False)\n",
    "    # loss, logits = model(batch['ids'], attention_mask=batch['mask'], labels=batch['target'], return_dict=False)\n",
    "    # loss, logits\n",
    "    # break"
   ]
  },
  {
   "cell_type": "markdown",
   "metadata": {},
   "source": [
    "## Model"
   ]
  },
  {
   "cell_type": "markdown",
   "metadata": {},
   "source": [
    "继承pytorch lightning框架的类，创建模型、定义forward函数、optimizer以及训练步骤和log。\n",
    "\n",
    "学习率使用了指数衰减的方法，参数gamma表示衰减的底数，选择不同的gamma值可以获得幅度不同的衰减曲线。"
   ]
  },
  {
   "cell_type": "code",
   "execution_count": 16,
   "metadata": {
    "id": "U4K6-Y661BfG"
   },
   "outputs": [],
   "source": [
    "class Classifier(pl.LightningModule):\n",
    "    def __init__(self, hparams):\n",
    "        super(Classifier, self).__init__()\n",
    "        \n",
    "        # 不返回attention weights和hidden states\n",
    "        # self.model = BertForSequenceClassification.from_pretrained(\"bert-base-uncased\", num_labels=14, output_attentions=False, output_hidden_states=False)\n",
    "        self.model = LongformerForSequenceClassification.from_pretrained(\"allenai/longformer-base-4096\", num_labels=14, output_attentions=False, output_hidden_states=False)\n",
    "        \n",
    "        self.batch_size = hparams[\"batch_size\"]\n",
    "        self.lr = hparams[\"lr\"]\n",
    "        self.gamma = hparams[\"gamma\"]\n",
    "\n",
    "    def forward(self, batch):\n",
    "        if len(batch) == 3:\n",
    "            input_ids, attention_masks, labels = batch['ids'], batch['mask'], batch['target']\n",
    "            loss, logits = self.model(input_ids, attention_mask=attention_masks, labels=labels, token_type_ids=None, return_dict=False)\n",
    "            return loss, logits\n",
    "        else:\n",
    "            input_ids, attention_mask = batch['ids'], batch['mask']\n",
    "            logits = self.model(input_ids, token_type_ids=None, attention_mask=attention_mask)\n",
    "            return logits[0]\n",
    "\n",
    "    def configure_optimizers(self):\n",
    "        optimizer = torch.optim.AdamW(self.model.parameters(), lr=self.lr)\n",
    "        scheduler = torch.optim.lr_scheduler.ExponentialLR(optimizer, self.gamma)\n",
    "        return [optimizer], [scheduler]\n",
    "\n",
    "    def training_step(self, batch, batch_idx):\n",
    "        loss, logits = self.forward(batch)\n",
    "        \n",
    "        pred_flat = torch.argmax(logits, dim=1).flatten()\n",
    "        labels_flat = batch['target'].flatten()\n",
    "        # acc = torch.sum(pred_flat == labels_flat) / len(labels_flat)\n",
    "        # 计算f1 score\n",
    "        f1 = f1_score(pred_flat, labels_flat, average=\"macro\", num_classes=14)\n",
    "        self.log(\"loss\", loss)\n",
    "        self.log(\"train_f1\", f1)\n",
    "        return loss\n",
    "\n",
    "    # def training_epoch_end(self, outputs):\n",
    "    #     avg_loss = torch.stack([x[\"loss\"] for x in outputs]).mean()\n",
    "    #     avg_f1 = torch.stack([x[\"train_f1\"] for x in outputs]).mean()\n",
    "    #     self.log(\"step\", self.trainer.current_epoch)\n",
    "    #     self.log(\"avg_loss\", avg_loss)\n",
    "    #     self.log(\"avg_acc\", avg_f1)\n",
    "\n",
    "    # def validation_step(self, batch, batch_idx):\n",
    "    #     loss, logits = self.forward(batch)\n",
    "    #     pred_flat = torch.argmax(logits, dim=1).flatten()\n",
    "    #     labels_flat = batch[2].flatten()\n",
    "    #     f1 = f1_score(pred_flat, labels_flat, average=\"macro\")\n",
    "    #     return {\"val_f1\": f1}\n",
    "\n",
    "    # def validation_epoch_end(self, outputs):\n",
    "    #     avg_f1 = torch.stack([x[\"val_f1\"] for x in outputs]).mean()\n",
    "    #     self.log(\"val_f1\", avg_f1)\n",
    "    \n",
    "    def train_dataloader(self):\n",
    "        train_loader = DataLoader(train_dataset, batch_size=self.batch_size, shuffle=True)\n",
    "        return train_loader\n",
    "\n",
    "    # def val_dataloader(self):\n",
    "    #     valid_loader = DataLoader(valid_dataset, batch_size=self.batch_size, sampler=RandomSampler(valid_dataset))\n",
    "    #     return valid_loader\n",
    "\n",
    "    def test_dataloader(self):\n",
    "        test_loader = DataLoader(test_dataset, batch_size=self.batch_size, shuffle=False)\n",
    "        return test_loader"
   ]
  },
  {
   "cell_type": "markdown",
   "metadata": {},
   "source": [
    "## Training"
   ]
  },
  {
   "cell_type": "code",
   "execution_count": null,
   "metadata": {
    "colab": {
     "base_uri": "https://localhost:8080/",
     "height": 416,
     "referenced_widgets": [
      "ab85383f90b046979208027dbeff89bf",
      "1ddc67ac3ca4467a820e09affb7658fc",
      "455ddba3d30b4037bdd7928a1719cd88",
      "cf36c5a007d74afea85668c7e78807a0",
      "20c5b095ca36426faa072c690b19e30b",
      "36117fe6718f4658ba40b87656b9d81f",
      "09b4aa07b33a49b6be2094bea5816b53",
      "f6517d55ee04423895bd189082d8165c",
      "6e40c26208f8414ba5c77168f5555822",
      "b1a0687d4da4475592dab3498ab2764f",
      "972d3141cd054d71b40d21bc6b87e09d"
     ]
    },
    "id": "zCJx2w0w1BfG",
    "outputId": "2c5d9567-5474-446a-db1d-574bcaab9b53"
   },
   "outputs": [],
   "source": [
    "hparams = {\n",
    "    \"batch_size\": 4,\n",
    "    \"lr\": 2e-5,\n",
    "    \"gamma\": 0.8,\n",
    "}\n",
    "\n",
    "model = Classifier(hparams)\n",
    "\n",
    "checkpoint_callback = ModelCheckpoint(\n",
    "    monitor=\"train_f1\",\n",
    "    dirpath=\"./\",\n",
    "    mode='max',\n",
    "    filename='best',\n",
    ")\n",
    "trainer = pl.Trainer(max_epochs=1, precision=16, accumulate_grad_batches=8, log_every_n_steps=1000, callbacks=[checkpoint_callback])\n",
    "# trainer = pl.Trainer(gpus=1, max_epochs=1, log_every_n_steps=1000, callbacks=[checkpoint_callback])\n",
    "trainer.fit(model)"
   ]
  },
  {
   "cell_type": "markdown",
   "metadata": {},
   "source": [
    "## Inference"
   ]
  },
  {
   "cell_type": "code",
   "execution_count": null,
   "metadata": {
    "colab": {
     "base_uri": "https://localhost:8080/",
     "height": 66,
     "referenced_widgets": [
      "808b049cc99148c8b5e2919bbd33add6",
      "e2ba6d4bd6ff438ca4206b604c49342a",
      "d97e912604134c4c871b85fb302466fc",
      "741e35916ec04375b17c0e8f9acb70f9",
      "4d1fc2e23a3f43159557f2f72219cbdc",
      "64812876154848feb740de818d877a66",
      "7014b1fda55f4bb6962baf0cda077cd9",
      "5ac0773ffa5f403da01905d7e9685005",
      "1408c15de46f41fab005fb3745138362",
      "9c7909245bb2449a840da4bbb21d115b",
      "f17f1610ed4f49e5bb7f7801b508c5d0"
     ]
    },
    "id": "COWHXsc_WcIc",
    "outputId": "8385c095-12fa-4ffd-fc80-a858efaa626b"
   },
   "outputs": [],
   "source": [
    "# 无须手动读取检查点，如果配置了ckeckpoint callback，predict函数会自动读取最佳的模型\n",
    "# model = Classifier.load_from_checkpoint(\"./best.ckpt\", hparams=hparams)\n",
    "predictions = trainer.predict(model.test_dataloader())"
   ]
  },
  {
   "cell_type": "code",
   "execution_count": null,
   "metadata": {
    "id": "7OkUkXsuYgi0"
   },
   "outputs": [],
   "source": [
    "preds = []\n",
    "for batch in predictions:\n",
    "  preds.extend(batch.argmax(dim=1).numpy())\n",
    "\n",
    "submission = pd.read_csv(\"./News/data/test_a_sample_submit.csv\")\n",
    "submission[\"label\"] = preds\n",
    "submission.to_csv(\"./submission.csv\", index=False)"
   ]
  }
 ],
 "metadata": {
  "interpreter": {
   "hash": "0e963d61ae5592af78c1a29f643d857bd502442649449ec5cf61b348680e7239"
  },
  "kernelspec": {
   "display_name": "Python 3 (ipykernel)",
   "language": "python",
   "name": "python3"
  },
  "language_info": {
   "codemirror_mode": {
    "name": "ipython",
    "version": 3
   },
   "file_extension": ".py",
   "mimetype": "text/x-python",
   "name": "python",
   "nbconvert_exporter": "python",
   "pygments_lexer": "ipython3",
   "version": "3.9.10"
  }
 },
 "nbformat": 4,
 "nbformat_minor": 2
}
