{
 "cells": [
  {
   "cell_type": "markdown",
   "id": "2f070b1e",
   "metadata": {
    "papermill": {
     "duration": 0.031681,
     "end_time": "2022-05-20T15:46:19.358739",
     "exception": false,
     "start_time": "2022-05-20T15:46:19.327058",
     "status": "completed"
    },
    "tags": []
   },
   "source": [
    "# 预测药物MoA\n",
    "一个样本可以有为一个或多个MoA标记，属于多标签分类任务(MultiLabel Classification)\n",
    "\n",
    "kaggle: https://www.kaggle.com/competitions/lish-moa/overview"
   ]
  },
  {
   "cell_type": "markdown",
   "id": "8e065cb1",
   "metadata": {
    "papermill": {
     "duration": 0.028993,
     "end_time": "2022-05-20T15:46:19.417132",
     "exception": false,
     "start_time": "2022-05-20T15:46:19.388139",
     "status": "completed"
    },
    "tags": []
   },
   "source": [
    "## Import"
   ]
  },
  {
   "cell_type": "code",
   "execution_count": 1,
   "id": "b4074dc4",
   "metadata": {
    "execution": {
     "iopub.execute_input": "2022-05-20T15:46:19.480967Z",
     "iopub.status.busy": "2022-05-20T15:46:19.480284Z",
     "iopub.status.idle": "2022-05-20T15:46:20.592294Z",
     "shell.execute_reply": "2022-05-20T15:46:20.591276Z"
    },
    "papermill": {
     "duration": 1.147871,
     "end_time": "2022-05-20T15:46:20.594995",
     "exception": false,
     "start_time": "2022-05-20T15:46:19.447124",
     "status": "completed"
    },
    "tags": []
   },
   "outputs": [],
   "source": [
    "import sys\n",
    "sys.path.append('../input/iterativestratification')\n",
    "from iterstrat.ml_stratifiers import MultilabelStratifiedKFold"
   ]
  },
  {
   "cell_type": "code",
   "execution_count": 2,
   "id": "ebb3bf83",
   "metadata": {
    "execution": {
     "iopub.execute_input": "2022-05-20T15:46:20.656444Z",
     "iopub.status.busy": "2022-05-20T15:46:20.655939Z",
     "iopub.status.idle": "2022-05-20T15:46:22.569675Z",
     "shell.execute_reply": "2022-05-20T15:46:22.568714Z"
    },
    "papermill": {
     "duration": 1.94768,
     "end_time": "2022-05-20T15:46:22.572746",
     "exception": false,
     "start_time": "2022-05-20T15:46:20.625066",
     "status": "completed"
    },
    "tags": []
   },
   "outputs": [],
   "source": [
    "import numpy as np\n",
    "import pandas as pd\n",
    "import seaborn as sns\n",
    "import matplotlib.pyplot as plt\n",
    "\n",
    "from sklearn.decomposition import PCA\n",
    "from sklearn.metrics import log_loss\n",
    "\n",
    "import torch\n",
    "import torch.nn as nn\n",
    "import torch.nn.functional as F\n",
    "from torch.utils.data import Dataset, DataLoader"
   ]
  },
  {
   "cell_type": "markdown",
   "id": "c201cdfd",
   "metadata": {
    "papermill": {
     "duration": 0.033039,
     "end_time": "2022-05-20T15:46:22.640367",
     "exception": false,
     "start_time": "2022-05-20T15:46:22.607328",
     "status": "completed"
    },
    "tags": []
   },
   "source": [
    "## Data"
   ]
  },
  {
   "cell_type": "markdown",
   "id": "36045456",
   "metadata": {
    "papermill": {
     "duration": 0.031537,
     "end_time": "2022-05-20T15:46:22.704440",
     "exception": false,
     "start_time": "2022-05-20T15:46:22.672903",
     "status": "completed"
    },
    "tags": []
   },
   "source": [
    "EDA refences: https://www.kaggle.com/code/amiiiney/drugs-moa-classification-eda/notebook#1-Overview:-Features\n",
    "\n",
    "In train_features: \n",
    "- Features **g-** signify gene expression data.\n",
    "\n",
    "- Features **c-** signify cell viability data.\n",
    " \n",
    "- **cp_type** indicates samples treated with a compound, **trt_cp** samples treated with the compounds.**ctl_vehicle**; control perturbations have no MoAs.\n",
    "\n",
    "- **cp_time** and **cp_dose** indicate treatment duration (24, 48, 72 hours) and dose (high or low)."
   ]
  },
  {
   "cell_type": "code",
   "execution_count": 3,
   "id": "07a5f3b1",
   "metadata": {
    "execution": {
     "iopub.execute_input": "2022-05-20T15:46:22.767845Z",
     "iopub.status.busy": "2022-05-20T15:46:22.767538Z",
     "iopub.status.idle": "2022-05-20T15:46:29.904206Z",
     "shell.execute_reply": "2022-05-20T15:46:29.903386Z"
    },
    "papermill": {
     "duration": 7.170493,
     "end_time": "2022-05-20T15:46:29.906139",
     "exception": false,
     "start_time": "2022-05-20T15:46:22.735646",
     "status": "completed"
    },
    "tags": []
   },
   "outputs": [
    {
     "data": {
      "text/html": [
       "<div>\n",
       "<style scoped>\n",
       "    .dataframe tbody tr th:only-of-type {\n",
       "        vertical-align: middle;\n",
       "    }\n",
       "\n",
       "    .dataframe tbody tr th {\n",
       "        vertical-align: top;\n",
       "    }\n",
       "\n",
       "    .dataframe thead th {\n",
       "        text-align: right;\n",
       "    }\n",
       "</style>\n",
       "<table border=\"1\" class=\"dataframe\">\n",
       "  <thead>\n",
       "    <tr style=\"text-align: right;\">\n",
       "      <th></th>\n",
       "      <th>sig_id</th>\n",
       "      <th>cp_type</th>\n",
       "      <th>cp_time</th>\n",
       "      <th>cp_dose</th>\n",
       "      <th>g-0</th>\n",
       "      <th>g-1</th>\n",
       "      <th>g-2</th>\n",
       "      <th>g-3</th>\n",
       "      <th>g-4</th>\n",
       "      <th>g-5</th>\n",
       "      <th>...</th>\n",
       "      <th>c-90</th>\n",
       "      <th>c-91</th>\n",
       "      <th>c-92</th>\n",
       "      <th>c-93</th>\n",
       "      <th>c-94</th>\n",
       "      <th>c-95</th>\n",
       "      <th>c-96</th>\n",
       "      <th>c-97</th>\n",
       "      <th>c-98</th>\n",
       "      <th>c-99</th>\n",
       "    </tr>\n",
       "  </thead>\n",
       "  <tbody>\n",
       "    <tr>\n",
       "      <th>0</th>\n",
       "      <td>id_000644bb2</td>\n",
       "      <td>trt_cp</td>\n",
       "      <td>24</td>\n",
       "      <td>D1</td>\n",
       "      <td>1.0620</td>\n",
       "      <td>0.5577</td>\n",
       "      <td>-0.2479</td>\n",
       "      <td>-0.6208</td>\n",
       "      <td>-0.1944</td>\n",
       "      <td>-1.0120</td>\n",
       "      <td>...</td>\n",
       "      <td>0.2862</td>\n",
       "      <td>0.2584</td>\n",
       "      <td>0.8076</td>\n",
       "      <td>0.5523</td>\n",
       "      <td>-0.1912</td>\n",
       "      <td>0.6584</td>\n",
       "      <td>-0.3981</td>\n",
       "      <td>0.2139</td>\n",
       "      <td>0.3801</td>\n",
       "      <td>0.4176</td>\n",
       "    </tr>\n",
       "    <tr>\n",
       "      <th>1</th>\n",
       "      <td>id_000779bfc</td>\n",
       "      <td>trt_cp</td>\n",
       "      <td>72</td>\n",
       "      <td>D1</td>\n",
       "      <td>0.0743</td>\n",
       "      <td>0.4087</td>\n",
       "      <td>0.2991</td>\n",
       "      <td>0.0604</td>\n",
       "      <td>1.0190</td>\n",
       "      <td>0.5207</td>\n",
       "      <td>...</td>\n",
       "      <td>-0.4265</td>\n",
       "      <td>0.7543</td>\n",
       "      <td>0.4708</td>\n",
       "      <td>0.0230</td>\n",
       "      <td>0.2957</td>\n",
       "      <td>0.4899</td>\n",
       "      <td>0.1522</td>\n",
       "      <td>0.1241</td>\n",
       "      <td>0.6077</td>\n",
       "      <td>0.7371</td>\n",
       "    </tr>\n",
       "    <tr>\n",
       "      <th>2</th>\n",
       "      <td>id_000a6266a</td>\n",
       "      <td>trt_cp</td>\n",
       "      <td>48</td>\n",
       "      <td>D1</td>\n",
       "      <td>0.6280</td>\n",
       "      <td>0.5817</td>\n",
       "      <td>1.5540</td>\n",
       "      <td>-0.0764</td>\n",
       "      <td>-0.0323</td>\n",
       "      <td>1.2390</td>\n",
       "      <td>...</td>\n",
       "      <td>-0.7250</td>\n",
       "      <td>-0.6297</td>\n",
       "      <td>0.6103</td>\n",
       "      <td>0.0223</td>\n",
       "      <td>-1.3240</td>\n",
       "      <td>-0.3174</td>\n",
       "      <td>-0.6417</td>\n",
       "      <td>-0.2187</td>\n",
       "      <td>-1.4080</td>\n",
       "      <td>0.6931</td>\n",
       "    </tr>\n",
       "    <tr>\n",
       "      <th>3</th>\n",
       "      <td>id_0015fd391</td>\n",
       "      <td>trt_cp</td>\n",
       "      <td>48</td>\n",
       "      <td>D1</td>\n",
       "      <td>-0.5138</td>\n",
       "      <td>-0.2491</td>\n",
       "      <td>-0.2656</td>\n",
       "      <td>0.5288</td>\n",
       "      <td>4.0620</td>\n",
       "      <td>-0.8095</td>\n",
       "      <td>...</td>\n",
       "      <td>-2.0990</td>\n",
       "      <td>-0.6441</td>\n",
       "      <td>-5.6300</td>\n",
       "      <td>-1.3780</td>\n",
       "      <td>-0.8632</td>\n",
       "      <td>-1.2880</td>\n",
       "      <td>-1.6210</td>\n",
       "      <td>-0.8784</td>\n",
       "      <td>-0.3876</td>\n",
       "      <td>-0.8154</td>\n",
       "    </tr>\n",
       "    <tr>\n",
       "      <th>4</th>\n",
       "      <td>id_001626bd3</td>\n",
       "      <td>trt_cp</td>\n",
       "      <td>72</td>\n",
       "      <td>D2</td>\n",
       "      <td>-0.3254</td>\n",
       "      <td>-0.4009</td>\n",
       "      <td>0.9700</td>\n",
       "      <td>0.6919</td>\n",
       "      <td>1.4180</td>\n",
       "      <td>-0.8244</td>\n",
       "      <td>...</td>\n",
       "      <td>0.0042</td>\n",
       "      <td>0.0048</td>\n",
       "      <td>0.6670</td>\n",
       "      <td>1.0690</td>\n",
       "      <td>0.5523</td>\n",
       "      <td>-0.3031</td>\n",
       "      <td>0.1094</td>\n",
       "      <td>0.2885</td>\n",
       "      <td>-0.3786</td>\n",
       "      <td>0.7125</td>\n",
       "    </tr>\n",
       "  </tbody>\n",
       "</table>\n",
       "<p>5 rows × 876 columns</p>\n",
       "</div>"
      ],
      "text/plain": [
       "         sig_id cp_type  cp_time cp_dose     g-0     g-1     g-2     g-3  \\\n",
       "0  id_000644bb2  trt_cp       24      D1  1.0620  0.5577 -0.2479 -0.6208   \n",
       "1  id_000779bfc  trt_cp       72      D1  0.0743  0.4087  0.2991  0.0604   \n",
       "2  id_000a6266a  trt_cp       48      D1  0.6280  0.5817  1.5540 -0.0764   \n",
       "3  id_0015fd391  trt_cp       48      D1 -0.5138 -0.2491 -0.2656  0.5288   \n",
       "4  id_001626bd3  trt_cp       72      D2 -0.3254 -0.4009  0.9700  0.6919   \n",
       "\n",
       "      g-4     g-5  ...    c-90    c-91    c-92    c-93    c-94    c-95  \\\n",
       "0 -0.1944 -1.0120  ...  0.2862  0.2584  0.8076  0.5523 -0.1912  0.6584   \n",
       "1  1.0190  0.5207  ... -0.4265  0.7543  0.4708  0.0230  0.2957  0.4899   \n",
       "2 -0.0323  1.2390  ... -0.7250 -0.6297  0.6103  0.0223 -1.3240 -0.3174   \n",
       "3  4.0620 -0.8095  ... -2.0990 -0.6441 -5.6300 -1.3780 -0.8632 -1.2880   \n",
       "4  1.4180 -0.8244  ...  0.0042  0.0048  0.6670  1.0690  0.5523 -0.3031   \n",
       "\n",
       "     c-96    c-97    c-98    c-99  \n",
       "0 -0.3981  0.2139  0.3801  0.4176  \n",
       "1  0.1522  0.1241  0.6077  0.7371  \n",
       "2 -0.6417 -0.2187 -1.4080  0.6931  \n",
       "3 -1.6210 -0.8784 -0.3876 -0.8154  \n",
       "4  0.1094  0.2885 -0.3786  0.7125  \n",
       "\n",
       "[5 rows x 876 columns]"
      ]
     },
     "execution_count": 3,
     "metadata": {},
     "output_type": "execute_result"
    }
   ],
   "source": [
    "train_features = pd.read_csv('../input/lish-moa/train_features.csv')\n",
    "train_targets_scored = pd.read_csv('../input/lish-moa/train_targets_scored.csv')\n",
    "train_targets_noscored = pd.read_csv('../input/lish-moa/train_targets_nonscored.csv')\n",
    "\n",
    "test_features = pd.read_csv('../input/lish-moa/test_features.csv')\n",
    "\n",
    "train_features.head()"
   ]
  },
  {
   "cell_type": "code",
   "execution_count": 4,
   "id": "6772e279",
   "metadata": {
    "execution": {
     "iopub.execute_input": "2022-05-20T15:46:29.972550Z",
     "iopub.status.busy": "2022-05-20T15:46:29.972259Z",
     "iopub.status.idle": "2022-05-20T15:46:29.978130Z",
     "shell.execute_reply": "2022-05-20T15:46:29.977415Z"
    },
    "papermill": {
     "duration": 0.039454,
     "end_time": "2022-05-20T15:46:29.980120",
     "exception": false,
     "start_time": "2022-05-20T15:46:29.940666",
     "status": "completed"
    },
    "tags": []
   },
   "outputs": [
    {
     "data": {
      "text/plain": [
       "((23814, 876), (23814, 207), (23814, 403), (3982, 876))"
      ]
     },
     "execution_count": 4,
     "metadata": {},
     "output_type": "execute_result"
    }
   ],
   "source": [
    "train_features.shape, train_targets_scored.shape, train_targets_noscored.shape, test_features.shape"
   ]
  },
  {
   "cell_type": "code",
   "execution_count": 5,
   "id": "92e9e604",
   "metadata": {
    "execution": {
     "iopub.execute_input": "2022-05-20T15:46:30.046279Z",
     "iopub.status.busy": "2022-05-20T15:46:30.046026Z",
     "iopub.status.idle": "2022-05-20T15:46:30.053980Z",
     "shell.execute_reply": "2022-05-20T15:46:30.053321Z"
    },
    "papermill": {
     "duration": 0.041482,
     "end_time": "2022-05-20T15:46:30.055744",
     "exception": false,
     "start_time": "2022-05-20T15:46:30.014262",
     "status": "completed"
    },
    "tags": []
   },
   "outputs": [
    {
     "data": {
      "text/plain": [
       "(772, 100)"
      ]
     },
     "execution_count": 5,
     "metadata": {},
     "output_type": "execute_result"
    }
   ],
   "source": [
    "GENES = [col for col in train_features.columns if col.startswith('g-')]\n",
    "CELLS = [col for col in train_features.columns if col.startswith('c-')]\n",
    "\n",
    "len(GENES), len(CELLS)"
   ]
  },
  {
   "cell_type": "code",
   "execution_count": 6,
   "id": "75bc3911",
   "metadata": {
    "execution": {
     "iopub.execute_input": "2022-05-20T15:46:30.119209Z",
     "iopub.status.busy": "2022-05-20T15:46:30.118937Z",
     "iopub.status.idle": "2022-05-20T15:46:30.131108Z",
     "shell.execute_reply": "2022-05-20T15:46:30.130345Z"
    },
    "papermill": {
     "duration": 0.045239,
     "end_time": "2022-05-20T15:46:30.133045",
     "exception": false,
     "start_time": "2022-05-20T15:46:30.087806",
     "status": "completed"
    },
    "tags": []
   },
   "outputs": [
    {
     "data": {
      "text/plain": [
       "array(['trt_cp', 'ctl_vehicle'], dtype=object)"
      ]
     },
     "execution_count": 6,
     "metadata": {},
     "output_type": "execute_result"
    }
   ],
   "source": [
    "train_features['cp_type'].unique()"
   ]
  },
  {
   "cell_type": "code",
   "execution_count": 7,
   "id": "11c32186",
   "metadata": {
    "execution": {
     "iopub.execute_input": "2022-05-20T15:46:30.195356Z",
     "iopub.status.busy": "2022-05-20T15:46:30.195103Z",
     "iopub.status.idle": "2022-05-20T15:46:30.646849Z",
     "shell.execute_reply": "2022-05-20T15:46:30.646118Z"
    },
    "papermill": {
     "duration": 0.485168,
     "end_time": "2022-05-20T15:46:30.649040",
     "exception": false,
     "start_time": "2022-05-20T15:46:30.163872",
     "status": "completed"
    },
    "tags": []
   },
   "outputs": [
    {
     "data": {
      "text/plain": [
       "<AxesSubplot:ylabel='Count'>"
      ]
     },
     "execution_count": 7,
     "metadata": {},
     "output_type": "execute_result"
    },
    {
     "data": {
      "image/png": "[encoded data removed]",
      "text/plain": [
       "<Figure size 432x288 with 1 Axes>"
      ]
     },
     "metadata": {},
     "output_type": "display_data"
    }
   ],
   "source": [
    "target_count = train_targets_scored.sum()[1:].sort_values()\n",
    "sns.set_style('whitegrid')\n",
    "sns.histplot(target_count)"
   ]
  },
  {
   "cell_type": "markdown",
   "id": "3fc15d5b",
   "metadata": {
    "papermill": {
     "duration": 0.031658,
     "end_time": "2022-05-20T15:46:30.712990",
     "exception": false,
     "start_time": "2022-05-20T15:46:30.681332",
     "status": "completed"
    },
    "tags": []
   },
   "source": [
    "## Preprocess"
   ]
  },
  {
   "cell_type": "code",
   "execution_count": 8,
   "id": "77bcc22e",
   "metadata": {
    "execution": {
     "iopub.execute_input": "2022-05-20T15:46:30.781517Z",
     "iopub.status.busy": "2022-05-20T15:46:30.781222Z",
     "iopub.status.idle": "2022-05-20T15:46:30.799733Z",
     "shell.execute_reply": "2022-05-20T15:46:30.799016Z"
    },
    "papermill": {
     "duration": 0.056357,
     "end_time": "2022-05-20T15:46:30.801786",
     "exception": false,
     "start_time": "2022-05-20T15:46:30.745429",
     "status": "completed"
    },
    "tags": []
   },
   "outputs": [],
   "source": [
    "def map(df):\n",
    "    df.loc[:, 'cp_type'] = df.loc[:, 'cp_type'].map({'trt_cp': 1, 'ctl_vehicle': 0})\n",
    "    df.loc[:, 'cp_dose'] = df.loc[:, 'cp_dose'].map({'D1': 0, 'D2': 1})\n",
    "    return df\n",
    "\n",
    "train_features = map(train_features)\n",
    "test_features = map(test_features)"
   ]
  },
  {
   "cell_type": "markdown",
   "id": "64c198f4",
   "metadata": {
    "papermill": {
     "duration": 0.034393,
     "end_time": "2022-05-20T15:46:30.870452",
     "exception": false,
     "start_time": "2022-05-20T15:46:30.836059",
     "status": "completed"
    },
    "tags": []
   },
   "source": [
    "### PCA features + Existing features"
   ]
  },
  {
   "cell_type": "code",
   "execution_count": 9,
   "id": "e066c64a",
   "metadata": {
    "execution": {
     "iopub.execute_input": "2022-05-20T15:46:30.939624Z",
     "iopub.status.busy": "2022-05-20T15:46:30.938844Z",
     "iopub.status.idle": "2022-05-20T15:46:34.924955Z",
     "shell.execute_reply": "2022-05-20T15:46:34.924200Z"
    },
    "papermill": {
     "duration": 4.022477,
     "end_time": "2022-05-20T15:46:34.927147",
     "exception": false,
     "start_time": "2022-05-20T15:46:30.904670",
     "status": "completed"
    },
    "tags": []
   },
   "outputs": [
    {
     "data": {
      "text/plain": [
       "((23814, 926), (3982, 926))"
      ]
     },
     "execution_count": 9,
     "metadata": {},
     "output_type": "execute_result"
    }
   ],
   "source": [
    "# GENE\n",
    "n_comp = 50\n",
    "\n",
    "data = pd.concat([train_features[GENES], test_features[GENES]])\n",
    "data2 = PCA(n_components=n_comp, random_state=42).fit_transform(data)\n",
    "\n",
    "train2 = data2[:len(train_features)]\n",
    "test2 = data2[len(train_features):]\n",
    "\n",
    "train2 = pd.DataFrame(train2, columns=[f'g-{i}' for i in range(n_comp)])\n",
    "test2 = pd.DataFrame(test2, columns=[f'g-{i}' for i in range(n_comp)])\n",
    "\n",
    "train_features = pd.concat([train_features, train2], axis=1)\n",
    "test_features = pd.concat([test_features, test2], axis=1)\n",
    "\n",
    "train_features.shape, test_features.shape"
   ]
  },
  {
   "cell_type": "code",
   "execution_count": 10,
   "id": "dcdfbe55",
   "metadata": {
    "execution": {
     "iopub.execute_input": "2022-05-20T15:46:34.997383Z",
     "iopub.status.busy": "2022-05-20T15:46:34.997123Z",
     "iopub.status.idle": "2022-05-20T15:46:35.712307Z",
     "shell.execute_reply": "2022-05-20T15:46:35.711641Z"
    },
    "papermill": {
     "duration": 0.753513,
     "end_time": "2022-05-20T15:46:35.714412",
     "exception": false,
     "start_time": "2022-05-20T15:46:34.960899",
     "status": "completed"
    },
    "tags": []
   },
   "outputs": [
    {
     "data": {
      "text/plain": [
       "((23814, 941), (3982, 941))"
      ]
     },
     "execution_count": 10,
     "metadata": {},
     "output_type": "execute_result"
    }
   ],
   "source": [
    "# CELL\n",
    "n_comp = 15\n",
    "\n",
    "data = pd.concat([train_features[CELLS], test_features[CELLS]])\n",
    "# PCA 返回的是numpy array\n",
    "data2 = PCA(n_components=n_comp, random_state=42).fit_transform(data)\n",
    "\n",
    "train2 = data2[:len(train_features)]\n",
    "test2 = data2[len(train_features):]\n",
    "\n",
    "train2 = pd.DataFrame(train2, columns=[f'c-{i}' for i in range(n_comp)])\n",
    "test2 = pd.DataFrame(test2, columns=[f'c-{i}' for i in range(n_comp)])\n",
    "\n",
    "train_features = pd.concat([train_features, train2], axis=1)\n",
    "test_features = pd.concat([test_features, test2], axis=1)\n",
    "\n",
    "train_features.shape, test_features.shape"
   ]
  },
  {
   "cell_type": "markdown",
   "id": "fad17a18",
   "metadata": {
    "papermill": {
     "duration": 0.035061,
     "end_time": "2022-05-20T15:46:35.782953",
     "exception": false,
     "start_time": "2022-05-20T15:46:35.747892",
     "status": "completed"
    },
    "tags": []
   },
   "source": [
    "### feature selection by VarianceThreshold"
   ]
  },
  {
   "cell_type": "code",
   "execution_count": 11,
   "id": "79e96c57",
   "metadata": {
    "execution": {
     "iopub.execute_input": "2022-05-20T15:46:35.851380Z",
     "iopub.status.busy": "2022-05-20T15:46:35.850632Z",
     "iopub.status.idle": "2022-05-20T15:46:36.538440Z",
     "shell.execute_reply": "2022-05-20T15:46:36.537614Z"
    },
    "papermill": {
     "duration": 0.724171,
     "end_time": "2022-05-20T15:46:36.540546",
     "exception": false,
     "start_time": "2022-05-20T15:46:35.816375",
     "status": "completed"
    },
    "tags": []
   },
   "outputs": [
    {
     "data": {
      "text/plain": [
       "((23814, 931), (3982, 931))"
      ]
     },
     "execution_count": 11,
     "metadata": {},
     "output_type": "execute_result"
    }
   ],
   "source": [
    "from sklearn.feature_selection import VarianceThreshold\n",
    "\n",
    "var_thresh = VarianceThreshold(threshold=0.5)\n",
    "data = pd.concat([train_features, test_features])\n",
    "# transform 返回的是numpy array\n",
    "data_transformed = var_thresh.fit_transform(data.iloc[:, 4:])\n",
    "\n",
    "train_transformed = data_transformed[:len(train_features)]\n",
    "test_transformed = data_transformed[len(train_features):]\n",
    "\n",
    "train_features = pd.concat([train_features.iloc[:, :4], pd.DataFrame(train_transformed)], axis=1)\n",
    "test_features = pd.concat([test_features.iloc[:, :4], pd.DataFrame(test_transformed)], axis=1)\n",
    "\n",
    "train_features.shape, test_features.shape"
   ]
  },
  {
   "cell_type": "code",
   "execution_count": 12,
   "id": "3573fd22",
   "metadata": {
    "execution": {
     "iopub.execute_input": "2022-05-20T15:46:36.609212Z",
     "iopub.status.busy": "2022-05-20T15:46:36.608923Z",
     "iopub.status.idle": "2022-05-20T15:46:37.025033Z",
     "shell.execute_reply": "2022-05-20T15:46:37.024118Z"
    },
    "papermill": {
     "duration": 0.45275,
     "end_time": "2022-05-20T15:46:37.027415",
     "exception": false,
     "start_time": "2022-05-20T15:46:36.574665",
     "status": "completed"
    },
    "tags": []
   },
   "outputs": [
    {
     "data": {
      "text/plain": [
       "((21948, 1136), (3624, 930), (21948, 207))"
      ]
     },
     "execution_count": 12,
     "metadata": {},
     "output_type": "execute_result"
    }
   ],
   "source": [
    "train = train_features.merge(train_targets_scored, on='sig_id')\n",
    "\n",
    "train = train[train_features['cp_type'] == 1].reset_index(drop=True)\n",
    "test = test_features[test_features['cp_type'] == 1].reset_index(drop=True)\n",
    "target = train[train_targets_scored.columns]\n",
    "\n",
    "train.drop('cp_type', axis=1, inplace=True)\n",
    "test.drop('cp_type', axis=1, inplace=True)\n",
    "\n",
    "train.shape, test.shape, target.shape"
   ]
  },
  {
   "cell_type": "markdown",
   "id": "840c87dd",
   "metadata": {
    "papermill": {
     "duration": 0.03452,
     "end_time": "2022-05-20T15:46:37.096887",
     "exception": false,
     "start_time": "2022-05-20T15:46:37.062367",
     "status": "completed"
    },
    "tags": []
   },
   "source": [
    "### Distribution plots"
   ]
  },
  {
   "cell_type": "code",
   "execution_count": 13,
   "id": "cd0af935",
   "metadata": {
    "execution": {
     "iopub.execute_input": "2022-05-20T15:46:37.172451Z",
     "iopub.status.busy": "2022-05-20T15:46:37.172173Z",
     "iopub.status.idle": "2022-05-20T15:46:37.175935Z",
     "shell.execute_reply": "2022-05-20T15:46:37.175138Z"
    },
    "papermill": {
     "duration": 0.044949,
     "end_time": "2022-05-20T15:46:37.177813",
     "exception": false,
     "start_time": "2022-05-20T15:46:37.132864",
     "status": "completed"
    },
    "tags": []
   },
   "outputs": [],
   "source": [
    "# plt.figure(figsize=(16, 16))\n",
    "# gene_choice = np.random.choice(len(GENES), 16)\n",
    "\n",
    "# for i, col in enumerate(gene_choice):\n",
    "#     plt.subplot(4, 4, i + 1)\n",
    "#     plt.hist(train_features.loc[:, col], bins=100, color='orange')\n",
    "#     plt.title(GENES[col])"
   ]
  },
  {
   "cell_type": "markdown",
   "id": "66f11c84",
   "metadata": {
    "papermill": {
     "duration": 0.035033,
     "end_time": "2022-05-20T15:46:37.248224",
     "exception": false,
     "start_time": "2022-05-20T15:46:37.213191",
     "status": "completed"
    },
    "tags": []
   },
   "source": [
    "### Cross Validation"
   ]
  },
  {
   "cell_type": "markdown",
   "id": "9f30b764",
   "metadata": {
    "papermill": {
     "duration": 0.035043,
     "end_time": "2022-05-20T15:46:37.320237",
     "exception": false,
     "start_time": "2022-05-20T15:46:37.285194",
     "status": "completed"
    },
    "tags": []
   },
   "source": [
    "由于样本的类别数存在不平衡，普通`Kfold`随机分类可能会导致训练集标签全为某个单一类别，而`StratifiedKFold`会按比例进行划分。\n",
    "但是scikit-learn的StratifiedKFold不能用于多标签分类"
   ]
  },
  {
   "cell_type": "code",
   "execution_count": 14,
   "id": "e9e0b5fc",
   "metadata": {
    "execution": {
     "iopub.execute_input": "2022-05-20T15:46:37.391623Z",
     "iopub.status.busy": "2022-05-20T15:46:37.390898Z",
     "iopub.status.idle": "2022-05-20T15:46:40.321375Z",
     "shell.execute_reply": "2022-05-20T15:46:40.320658Z"
    },
    "papermill": {
     "duration": 2.968999,
     "end_time": "2022-05-20T15:46:40.323991",
     "exception": false,
     "start_time": "2022-05-20T15:46:37.354992",
     "status": "completed"
    },
    "tags": []
   },
   "outputs": [
    {
     "data": {
      "text/html": [
       "<div>\n",
       "<style scoped>\n",
       "    .dataframe tbody tr th:only-of-type {\n",
       "        vertical-align: middle;\n",
       "    }\n",
       "\n",
       "    .dataframe tbody tr th {\n",
       "        vertical-align: top;\n",
       "    }\n",
       "\n",
       "    .dataframe thead th {\n",
       "        text-align: right;\n",
       "    }\n",
       "</style>\n",
       "<table border=\"1\" class=\"dataframe\">\n",
       "  <thead>\n",
       "    <tr style=\"text-align: right;\">\n",
       "      <th></th>\n",
       "      <th>sig_id</th>\n",
       "      <th>cp_time</th>\n",
       "      <th>cp_dose</th>\n",
       "      <th>0</th>\n",
       "      <th>1</th>\n",
       "      <th>2</th>\n",
       "      <th>3</th>\n",
       "      <th>4</th>\n",
       "      <th>5</th>\n",
       "      <th>6</th>\n",
       "      <th>...</th>\n",
       "      <th>trpv_agonist</th>\n",
       "      <th>trpv_antagonist</th>\n",
       "      <th>tubulin_inhibitor</th>\n",
       "      <th>tyrosine_kinase_inhibitor</th>\n",
       "      <th>ubiquitin_specific_protease_inhibitor</th>\n",
       "      <th>vegfr_inhibitor</th>\n",
       "      <th>vitamin_b</th>\n",
       "      <th>vitamin_d_receptor_agonist</th>\n",
       "      <th>wnt_inhibitor</th>\n",
       "      <th>kfold</th>\n",
       "    </tr>\n",
       "  </thead>\n",
       "  <tbody>\n",
       "    <tr>\n",
       "      <th>0</th>\n",
       "      <td>id_000644bb2</td>\n",
       "      <td>24</td>\n",
       "      <td>0</td>\n",
       "      <td>1.0620</td>\n",
       "      <td>0.5577</td>\n",
       "      <td>-0.2479</td>\n",
       "      <td>-0.6208</td>\n",
       "      <td>-0.1944</td>\n",
       "      <td>-1.0120</td>\n",
       "      <td>-1.0220</td>\n",
       "      <td>...</td>\n",
       "      <td>0</td>\n",
       "      <td>0</td>\n",
       "      <td>0</td>\n",
       "      <td>0</td>\n",
       "      <td>0</td>\n",
       "      <td>0</td>\n",
       "      <td>0</td>\n",
       "      <td>0</td>\n",
       "      <td>0</td>\n",
       "      <td>2</td>\n",
       "    </tr>\n",
       "    <tr>\n",
       "      <th>1</th>\n",
       "      <td>id_000779bfc</td>\n",
       "      <td>72</td>\n",
       "      <td>0</td>\n",
       "      <td>0.0743</td>\n",
       "      <td>0.4087</td>\n",
       "      <td>0.2991</td>\n",
       "      <td>0.0604</td>\n",
       "      <td>1.0190</td>\n",
       "      <td>0.5207</td>\n",
       "      <td>0.2341</td>\n",
       "      <td>...</td>\n",
       "      <td>0</td>\n",
       "      <td>0</td>\n",
       "      <td>0</td>\n",
       "      <td>0</td>\n",
       "      <td>0</td>\n",
       "      <td>0</td>\n",
       "      <td>0</td>\n",
       "      <td>0</td>\n",
       "      <td>0</td>\n",
       "      <td>3</td>\n",
       "    </tr>\n",
       "    <tr>\n",
       "      <th>2</th>\n",
       "      <td>id_000a6266a</td>\n",
       "      <td>48</td>\n",
       "      <td>0</td>\n",
       "      <td>0.6280</td>\n",
       "      <td>0.5817</td>\n",
       "      <td>1.5540</td>\n",
       "      <td>-0.0764</td>\n",
       "      <td>-0.0323</td>\n",
       "      <td>1.2390</td>\n",
       "      <td>0.1715</td>\n",
       "      <td>...</td>\n",
       "      <td>0</td>\n",
       "      <td>0</td>\n",
       "      <td>0</td>\n",
       "      <td>0</td>\n",
       "      <td>0</td>\n",
       "      <td>0</td>\n",
       "      <td>0</td>\n",
       "      <td>0</td>\n",
       "      <td>0</td>\n",
       "      <td>0</td>\n",
       "    </tr>\n",
       "    <tr>\n",
       "      <th>3</th>\n",
       "      <td>id_0015fd391</td>\n",
       "      <td>48</td>\n",
       "      <td>0</td>\n",
       "      <td>-0.5138</td>\n",
       "      <td>-0.2491</td>\n",
       "      <td>-0.2656</td>\n",
       "      <td>0.5288</td>\n",
       "      <td>4.0620</td>\n",
       "      <td>-0.8095</td>\n",
       "      <td>-1.9590</td>\n",
       "      <td>...</td>\n",
       "      <td>0</td>\n",
       "      <td>0</td>\n",
       "      <td>0</td>\n",
       "      <td>0</td>\n",
       "      <td>0</td>\n",
       "      <td>0</td>\n",
       "      <td>0</td>\n",
       "      <td>0</td>\n",
       "      <td>0</td>\n",
       "      <td>3</td>\n",
       "    </tr>\n",
       "    <tr>\n",
       "      <th>4</th>\n",
       "      <td>id_001626bd3</td>\n",
       "      <td>72</td>\n",
       "      <td>1</td>\n",
       "      <td>-0.3254</td>\n",
       "      <td>-0.4009</td>\n",
       "      <td>0.9700</td>\n",
       "      <td>0.6919</td>\n",
       "      <td>1.4180</td>\n",
       "      <td>-0.8244</td>\n",
       "      <td>-0.2800</td>\n",
       "      <td>...</td>\n",
       "      <td>0</td>\n",
       "      <td>0</td>\n",
       "      <td>0</td>\n",
       "      <td>0</td>\n",
       "      <td>0</td>\n",
       "      <td>0</td>\n",
       "      <td>0</td>\n",
       "      <td>0</td>\n",
       "      <td>0</td>\n",
       "      <td>0</td>\n",
       "    </tr>\n",
       "    <tr>\n",
       "      <th>...</th>\n",
       "      <td>...</td>\n",
       "      <td>...</td>\n",
       "      <td>...</td>\n",
       "      <td>...</td>\n",
       "      <td>...</td>\n",
       "      <td>...</td>\n",
       "      <td>...</td>\n",
       "      <td>...</td>\n",
       "      <td>...</td>\n",
       "      <td>...</td>\n",
       "      <td>...</td>\n",
       "      <td>...</td>\n",
       "      <td>...</td>\n",
       "      <td>...</td>\n",
       "      <td>...</td>\n",
       "      <td>...</td>\n",
       "      <td>...</td>\n",
       "      <td>...</td>\n",
       "      <td>...</td>\n",
       "      <td>...</td>\n",
       "      <td>...</td>\n",
       "    </tr>\n",
       "    <tr>\n",
       "      <th>21943</th>\n",
       "      <td>id_fff8c2444</td>\n",
       "      <td>72</td>\n",
       "      <td>0</td>\n",
       "      <td>0.1608</td>\n",
       "      <td>-1.0500</td>\n",
       "      <td>0.2551</td>\n",
       "      <td>-0.2239</td>\n",
       "      <td>-0.2431</td>\n",
       "      <td>0.4256</td>\n",
       "      <td>-0.1166</td>\n",
       "      <td>...</td>\n",
       "      <td>0</td>\n",
       "      <td>0</td>\n",
       "      <td>0</td>\n",
       "      <td>0</td>\n",
       "      <td>0</td>\n",
       "      <td>0</td>\n",
       "      <td>0</td>\n",
       "      <td>0</td>\n",
       "      <td>0</td>\n",
       "      <td>4</td>\n",
       "    </tr>\n",
       "    <tr>\n",
       "      <th>21944</th>\n",
       "      <td>id_fffb1ceed</td>\n",
       "      <td>24</td>\n",
       "      <td>1</td>\n",
       "      <td>0.1394</td>\n",
       "      <td>-0.0636</td>\n",
       "      <td>-0.1112</td>\n",
       "      <td>-0.5080</td>\n",
       "      <td>-0.4713</td>\n",
       "      <td>0.7201</td>\n",
       "      <td>0.5773</td>\n",
       "      <td>...</td>\n",
       "      <td>0</td>\n",
       "      <td>0</td>\n",
       "      <td>0</td>\n",
       "      <td>0</td>\n",
       "      <td>0</td>\n",
       "      <td>0</td>\n",
       "      <td>0</td>\n",
       "      <td>0</td>\n",
       "      <td>0</td>\n",
       "      <td>4</td>\n",
       "    </tr>\n",
       "    <tr>\n",
       "      <th>21945</th>\n",
       "      <td>id_fffb70c0c</td>\n",
       "      <td>24</td>\n",
       "      <td>1</td>\n",
       "      <td>-1.3260</td>\n",
       "      <td>0.3478</td>\n",
       "      <td>-0.3743</td>\n",
       "      <td>0.9905</td>\n",
       "      <td>-0.7178</td>\n",
       "      <td>0.6621</td>\n",
       "      <td>-0.2252</td>\n",
       "      <td>...</td>\n",
       "      <td>0</td>\n",
       "      <td>0</td>\n",
       "      <td>0</td>\n",
       "      <td>0</td>\n",
       "      <td>0</td>\n",
       "      <td>0</td>\n",
       "      <td>0</td>\n",
       "      <td>0</td>\n",
       "      <td>0</td>\n",
       "      <td>2</td>\n",
       "    </tr>\n",
       "    <tr>\n",
       "      <th>21946</th>\n",
       "      <td>id_fffcb9e7c</td>\n",
       "      <td>24</td>\n",
       "      <td>0</td>\n",
       "      <td>0.6660</td>\n",
       "      <td>0.2324</td>\n",
       "      <td>0.4392</td>\n",
       "      <td>0.2044</td>\n",
       "      <td>0.8531</td>\n",
       "      <td>-0.0343</td>\n",
       "      <td>0.0323</td>\n",
       "      <td>...</td>\n",
       "      <td>0</td>\n",
       "      <td>0</td>\n",
       "      <td>0</td>\n",
       "      <td>0</td>\n",
       "      <td>0</td>\n",
       "      <td>0</td>\n",
       "      <td>0</td>\n",
       "      <td>0</td>\n",
       "      <td>0</td>\n",
       "      <td>4</td>\n",
       "    </tr>\n",
       "    <tr>\n",
       "      <th>21947</th>\n",
       "      <td>id_ffffdd77b</td>\n",
       "      <td>72</td>\n",
       "      <td>0</td>\n",
       "      <td>-0.8598</td>\n",
       "      <td>1.0240</td>\n",
       "      <td>-0.1361</td>\n",
       "      <td>0.7952</td>\n",
       "      <td>-0.3611</td>\n",
       "      <td>-3.6750</td>\n",
       "      <td>-1.2420</td>\n",
       "      <td>...</td>\n",
       "      <td>0</td>\n",
       "      <td>0</td>\n",
       "      <td>0</td>\n",
       "      <td>0</td>\n",
       "      <td>0</td>\n",
       "      <td>0</td>\n",
       "      <td>0</td>\n",
       "      <td>0</td>\n",
       "      <td>0</td>\n",
       "      <td>4</td>\n",
       "    </tr>\n",
       "  </tbody>\n",
       "</table>\n",
       "<p>21948 rows × 1137 columns</p>\n",
       "</div>"
      ],
      "text/plain": [
       "             sig_id  cp_time  cp_dose       0       1       2       3       4  \\\n",
       "0      id_000644bb2       24        0  1.0620  0.5577 -0.2479 -0.6208 -0.1944   \n",
       "1      id_000779bfc       72        0  0.0743  0.4087  0.2991  0.0604  1.0190   \n",
       "2      id_000a6266a       48        0  0.6280  0.5817  1.5540 -0.0764 -0.0323   \n",
       "3      id_0015fd391       48        0 -0.5138 -0.2491 -0.2656  0.5288  4.0620   \n",
       "4      id_001626bd3       72        1 -0.3254 -0.4009  0.9700  0.6919  1.4180   \n",
       "...             ...      ...      ...     ...     ...     ...     ...     ...   \n",
       "21943  id_fff8c2444       72        0  0.1608 -1.0500  0.2551 -0.2239 -0.2431   \n",
       "21944  id_fffb1ceed       24        1  0.1394 -0.0636 -0.1112 -0.5080 -0.4713   \n",
       "21945  id_fffb70c0c       24        1 -1.3260  0.3478 -0.3743  0.9905 -0.7178   \n",
       "21946  id_fffcb9e7c       24        0  0.6660  0.2324  0.4392  0.2044  0.8531   \n",
       "21947  id_ffffdd77b       72        0 -0.8598  1.0240 -0.1361  0.7952 -0.3611   \n",
       "\n",
       "            5       6  ...  trpv_agonist  trpv_antagonist  tubulin_inhibitor  \\\n",
       "0     -1.0120 -1.0220  ...             0                0                  0   \n",
       "1      0.5207  0.2341  ...             0                0                  0   \n",
       "2      1.2390  0.1715  ...             0                0                  0   \n",
       "3     -0.8095 -1.9590  ...             0                0                  0   \n",
       "4     -0.8244 -0.2800  ...             0                0                  0   \n",
       "...       ...     ...  ...           ...              ...                ...   \n",
       "21943  0.4256 -0.1166  ...             0                0                  0   \n",
       "21944  0.7201  0.5773  ...             0                0                  0   \n",
       "21945  0.6621 -0.2252  ...             0                0                  0   \n",
       "21946 -0.0343  0.0323  ...             0                0                  0   \n",
       "21947 -3.6750 -1.2420  ...             0                0                  0   \n",
       "\n",
       "       tyrosine_kinase_inhibitor  ubiquitin_specific_protease_inhibitor  \\\n",
       "0                              0                                      0   \n",
       "1                              0                                      0   \n",
       "2                              0                                      0   \n",
       "3                              0                                      0   \n",
       "4                              0                                      0   \n",
       "...                          ...                                    ...   \n",
       "21943                          0                                      0   \n",
       "21944                          0                                      0   \n",
       "21945                          0                                      0   \n",
       "21946                          0                                      0   \n",
       "21947                          0                                      0   \n",
       "\n",
       "       vegfr_inhibitor  vitamin_b  vitamin_d_receptor_agonist  wnt_inhibitor  \\\n",
       "0                    0          0                           0              0   \n",
       "1                    0          0                           0              0   \n",
       "2                    0          0                           0              0   \n",
       "3                    0          0                           0              0   \n",
       "4                    0          0                           0              0   \n",
       "...                ...        ...                         ...            ...   \n",
       "21943                0          0                           0              0   \n",
       "21944                0          0                           0              0   \n",
       "21945                0          0                           0              0   \n",
       "21946                0          0                           0              0   \n",
       "21947                0          0                           0              0   \n",
       "\n",
       "       kfold  \n",
       "0          2  \n",
       "1          3  \n",
       "2          0  \n",
       "3          3  \n",
       "4          0  \n",
       "...      ...  \n",
       "21943      4  \n",
       "21944      4  \n",
       "21945      2  \n",
       "21946      4  \n",
       "21947      4  \n",
       "\n",
       "[21948 rows x 1137 columns]"
      ]
     },
     "execution_count": 14,
     "metadata": {},
     "output_type": "execute_result"
    }
   ],
   "source": [
    "folds = train.copy()\n",
    "\n",
    "mskf = MultilabelStratifiedKFold(n_splits=5)\n",
    "    \n",
    "for f, (train_idx, valid_idx) in enumerate(mskf.split(X=train, y=target)):\n",
    "    folds.loc[valid_idx, 'kfold'] = int(f)\n",
    "\n",
    "folds['kfold'] = folds['kfold'].astype(int)\n",
    "folds"
   ]
  },
  {
   "cell_type": "code",
   "execution_count": 15,
   "id": "0f018c05",
   "metadata": {
    "execution": {
     "iopub.execute_input": "2022-05-20T15:46:40.399229Z",
     "iopub.status.busy": "2022-05-20T15:46:40.398937Z",
     "iopub.status.idle": "2022-05-20T15:46:40.421405Z",
     "shell.execute_reply": "2022-05-20T15:46:40.420719Z"
    },
    "papermill": {
     "duration": 0.060204,
     "end_time": "2022-05-20T15:46:40.423698",
     "exception": false,
     "start_time": "2022-05-20T15:46:40.363494",
     "status": "completed"
    },
    "tags": []
   },
   "outputs": [
    {
     "name": "stdout",
     "output_type": "stream",
     "text": [
      "(21948, 1136) (3624, 930) (21948, 207) (21948, 1137)\n",
      "929 206\n"
     ]
    }
   ],
   "source": [
    "target_col = target.drop('sig_id', axis=1).columns.values.tolist()\n",
    "feature_col = [col for col in train.columns if col not in target_col]\n",
    "feature_col = [col for col in feature_col if col not in ['sig_id']]\n",
    "\n",
    "print(train.shape, test.shape, target.shape, folds.shape)\n",
    "print(len(feature_col), len(target_col))"
   ]
  },
  {
   "cell_type": "markdown",
   "id": "ab4dd5d9",
   "metadata": {
    "papermill": {
     "duration": 0.034071,
     "end_time": "2022-05-20T15:46:40.494118",
     "exception": false,
     "start_time": "2022-05-20T15:46:40.460047",
     "status": "completed"
    },
    "tags": []
   },
   "source": [
    "## Dataset"
   ]
  },
  {
   "cell_type": "code",
   "execution_count": 16,
   "id": "925d6d00",
   "metadata": {
    "execution": {
     "iopub.execute_input": "2022-05-20T15:46:40.565744Z",
     "iopub.status.busy": "2022-05-20T15:46:40.565036Z",
     "iopub.status.idle": "2022-05-20T15:46:40.572739Z",
     "shell.execute_reply": "2022-05-20T15:46:40.572026Z"
    },
    "papermill": {
     "duration": 0.046441,
     "end_time": "2022-05-20T15:46:40.574611",
     "exception": false,
     "start_time": "2022-05-20T15:46:40.528170",
     "status": "completed"
    },
    "tags": []
   },
   "outputs": [],
   "source": [
    "class MoADataset(Dataset):\n",
    "    def __init__(self, features, targets):\n",
    "        self.features = features\n",
    "        self.targets = targets\n",
    "    \n",
    "    def __getitem__(self, idx):\n",
    "        return {\n",
    "            'x': torch.tensor(self.features[idx, :], dtype=torch.float32),\n",
    "            'y': torch.tensor(self.targets[idx, :], dtype=torch.float32)\n",
    "        }\n",
    "\n",
    "    def __len__(self):\n",
    "        return len(self.features)\n",
    "\n",
    "class TestDataset(Dataset):\n",
    "    def __init__(self, features):\n",
    "        self.features = features\n",
    "    \n",
    "    def __getitem__(self, idx):\n",
    "        return {\n",
    "            'x': torch.tensor(self.features[idx, :], dtype=torch.float32)\n",
    "        }\n",
    "\n",
    "    def __len__(self):\n",
    "        return len(self.features)"
   ]
  },
  {
   "cell_type": "markdown",
   "id": "47f47d1c",
   "metadata": {
    "papermill": {
     "duration": 0.034113,
     "end_time": "2022-05-20T15:46:40.642958",
     "exception": false,
     "start_time": "2022-05-20T15:46:40.608845",
     "status": "completed"
    },
    "tags": []
   },
   "source": [
    "## Training functions"
   ]
  },
  {
   "cell_type": "code",
   "execution_count": 17,
   "id": "37449109",
   "metadata": {
    "execution": {
     "iopub.execute_input": "2022-05-20T15:46:40.712055Z",
     "iopub.status.busy": "2022-05-20T15:46:40.711802Z",
     "iopub.status.idle": "2022-05-20T15:46:40.723115Z",
     "shell.execute_reply": "2022-05-20T15:46:40.722435Z"
    },
    "papermill": {
     "duration": 0.047947,
     "end_time": "2022-05-20T15:46:40.724811",
     "exception": false,
     "start_time": "2022-05-20T15:46:40.676864",
     "status": "completed"
    },
    "tags": []
   },
   "outputs": [],
   "source": [
    "def train_fn(model, optimizer, scheduler, criterion, dataloader, device):\n",
    "    model.train()\n",
    "    final_loss = 0\n",
    "\n",
    "    for data in dataloader:\n",
    "        optimizer.zero_grad()\n",
    "        input, target = data['x'].to(device), data['y'].to(device)\n",
    "        output = model(input)\n",
    "        loss = criterion(output, target)\n",
    "        loss.backward()\n",
    "        optimizer.step()\n",
    "        scheduler.step(loss)\n",
    "\n",
    "        final_loss += loss.item()\n",
    "\n",
    "    return final_loss / len(dataloader)\n",
    "\n",
    "def valid_fn(model, dataloader, criterion, device):\n",
    "    model.eval()\n",
    "    final_loss = 0\n",
    "    valid_preds = []\n",
    "\n",
    "    for data in dataloader:\n",
    "        input, target = data['x'].to(device), data['y'].to(device)\n",
    "        output = model(input)\n",
    "        loss = criterion(output, target)\n",
    "\n",
    "        final_loss += loss.item()\n",
    "        valid_preds.append(output.sigmoid().detach().cpu().numpy())\n",
    "\n",
    "    final_loss = final_loss / len(dataloader)\n",
    "    valid_preds = np.concatenate(valid_preds)   # list -> numpy array(matrix)\n",
    "    return final_loss , valid_preds\n",
    "\n",
    "def inference_fn(model, dataloader, device):\n",
    "    model.eval()\n",
    "    final_preds = []\n",
    "\n",
    "    with torch.no_grad():\n",
    "        for data in dataloader:\n",
    "            input = data['x'].to(device)\n",
    "            output = model(input)\n",
    "            final_preds.append(output.sigmoid().detach().cpu().numpy())\n",
    "\n",
    "    final_preds = np.concatenate(final_preds)\n",
    "    return final_preds"
   ]
  },
  {
   "cell_type": "markdown",
   "id": "c513b096",
   "metadata": {
    "papermill": {
     "duration": 0.034338,
     "end_time": "2022-05-20T15:46:40.793528",
     "exception": false,
     "start_time": "2022-05-20T15:46:40.759190",
     "status": "completed"
    },
    "tags": []
   },
   "source": [
    "## Model"
   ]
  },
  {
   "cell_type": "code",
   "execution_count": 18,
   "id": "403b4c09",
   "metadata": {
    "execution": {
     "iopub.execute_input": "2022-05-20T15:46:40.863596Z",
     "iopub.status.busy": "2022-05-20T15:46:40.863322Z",
     "iopub.status.idle": "2022-05-20T15:46:40.872113Z",
     "shell.execute_reply": "2022-05-20T15:46:40.871419Z"
    },
    "papermill": {
     "duration": 0.045996,
     "end_time": "2022-05-20T15:46:40.873795",
     "exception": false,
     "start_time": "2022-05-20T15:46:40.827799",
     "status": "completed"
    },
    "tags": []
   },
   "outputs": [],
   "source": [
    "class Model(nn.Module):\n",
    "    def __init__(self, num_features, hidden_size, num_targets):\n",
    "        super().__init__()\n",
    "        self.model = nn.Sequential(\n",
    "            nn.BatchNorm1d(num_features),\n",
    "            nn.Dropout(0.2),\n",
    "            nn.Linear(num_features, hidden_size),\n",
    "            nn.LeakyReLU(),\n",
    "\n",
    "            # nn.BatchNorm1d(hidden_size),\n",
    "            nn.Dropout(0.3),\n",
    "            nn.Linear(hidden_size, hidden_size),\n",
    "            nn.LeakyReLU(),\n",
    "            \n",
    "            # nn.BatchNorm1d(hidden_size),\n",
    "            nn.Dropout(0.3),\n",
    "            nn.Linear(hidden_size, hidden_size),\n",
    "            nn.LeakyReLU(),\n",
    "\n",
    "            # nn.BatchNorm1d(hidden_size),\n",
    "            nn.Dropout(0.3),\n",
    "            nn.Linear(hidden_size, hidden_size),\n",
    "            nn.LeakyReLU(),\n",
    "\n",
    "            # nn.BatchNorm1d(hidden_size),\n",
    "            nn.Dropout(0.3),\n",
    "            nn.Linear(hidden_size, hidden_size),\n",
    "            nn.LeakyReLU(),\n",
    "\n",
    "            nn.BatchNorm1d(hidden_size),\n",
    "            nn.Dropout(0.3),\n",
    "            nn.Linear(hidden_size, num_targets),\n",
    "        )\n",
    "\n",
    "    def forward(self, x):\n",
    "        return self.model(x)"
   ]
  },
  {
   "cell_type": "markdown",
   "id": "e4ec1a69",
   "metadata": {
    "papermill": {
     "duration": 0.033487,
     "end_time": "2022-05-20T15:46:40.941339",
     "exception": false,
     "start_time": "2022-05-20T15:46:40.907852",
     "status": "completed"
    },
    "tags": []
   },
   "source": [
    "## Single Fold Training"
   ]
  },
  {
   "cell_type": "code",
   "execution_count": 19,
   "id": "d4e6d825",
   "metadata": {
    "execution": {
     "iopub.execute_input": "2022-05-20T15:46:41.014959Z",
     "iopub.status.busy": "2022-05-20T15:46:41.014689Z",
     "iopub.status.idle": "2022-05-20T15:46:41.090909Z",
     "shell.execute_reply": "2022-05-20T15:46:41.090092Z"
    },
    "papermill": {
     "duration": 0.118127,
     "end_time": "2022-05-20T15:46:41.094699",
     "exception": false,
     "start_time": "2022-05-20T15:46:40.976572",
     "status": "completed"
    },
    "tags": []
   },
   "outputs": [],
   "source": [
    "# Hyperparameters\n",
    "device = torch.device('cuda:0' if torch.cuda.is_available() else 'cpu')\n",
    "epochs = 30\n",
    "batch_size = 1024\n",
    "learning_rate = 1e-3\n",
    "weight_decay = 1e-5\n",
    "nfolds = 5\n",
    "early_stop_step = 10\n",
    "early_stop = False\n",
    "\n",
    "num_features = len(feature_col)\n",
    "hidden_size = 2048\n",
    "num_targets = len(target_col)"
   ]
  },
  {
   "cell_type": "code",
   "execution_count": 20,
   "id": "bbfa7e4a",
   "metadata": {
    "execution": {
     "iopub.execute_input": "2022-05-20T15:46:41.221233Z",
     "iopub.status.busy": "2022-05-20T15:46:41.220894Z",
     "iopub.status.idle": "2022-05-20T15:46:41.244622Z",
     "shell.execute_reply": "2022-05-20T15:46:41.243814Z"
    },
    "papermill": {
     "duration": 0.085039,
     "end_time": "2022-05-20T15:46:41.247411",
     "exception": false,
     "start_time": "2022-05-20T15:46:41.162372",
     "status": "completed"
    },
    "tags": []
   },
   "outputs": [],
   "source": [
    "def run_training(fold):\n",
    "    train_idx = train[folds['kfold'] != fold].index\n",
    "    valid_idx = train[folds['kfold'] == fold].index\n",
    "\n",
    "\n",
    "    train_df = train[folds['kfold'] != fold].reset_index(drop=True)\n",
    "    valid_df = train[folds['kfold'] == fold].reset_index(drop=True)\n",
    "\n",
    "    x_train, y_train = train_df[feature_col].values, train_df[target_col].values\n",
    "    x_valid, y_valid = valid_df[feature_col].values, valid_df[target_col].values\n",
    "\n",
    "    train_dataset = MoADataset(x_train, y_train)\n",
    "    valid_dataset = MoADataset(x_valid, y_valid)\n",
    "    train_dataloader = DataLoader(train_dataset, batch_size=batch_size, shuffle=True)\n",
    "    valid_dataloader = DataLoader(valid_dataset, batch_size=batch_size, shuffle=False)\n",
    "\n",
    "    model = Model(num_features, hidden_size, num_targets).to(device)\n",
    "    optimizer = torch.optim.Adam(model.parameters(), lr=learning_rate, weight_decay=weight_decay)\n",
    "    scheduler = torch.optim.lr_scheduler.ReduceLROnPlateau(optimizer, patience=3, verbose=True)\n",
    "    criterion = nn.BCEWithLogitsLoss()\n",
    "\n",
    "    best_loss = np.inf\n",
    "    oof = np.zeros((len(train), target.iloc[:, 1:].shape[1]))\n",
    "\n",
    "    for epoch in range(epochs):\n",
    "        train_loss = train_fn(model, optimizer, scheduler, criterion, train_dataloader, device)\n",
    "        valid_loss, valid_preds = valid_fn(model, valid_dataloader, criterion, device)\n",
    "\n",
    "        if valid_loss < best_loss:\n",
    "            best_loss = valid_loss\n",
    "            early_stop = 0\n",
    "            torch.save(model.state_dict(), f'FOLD{fold}_.pth')\n",
    "        else:\n",
    "            early_stop += 1\n",
    "\n",
    "        if early_stop >= early_stop_step:\n",
    "            print(f'Early stop at epoch {epoch + 1}')\n",
    "            break\n",
    "\n",
    "        print(f'Fold {fold} | Epoch {epoch + 1} | train loss: {train_loss:.4f} | valid loss: {valid_loss:.4f}')\n",
    "\n",
    "    # <-------------- inference ---------------->/\n",
    "    x_test = test[feature_col].values\n",
    "    test_dataset = TestDataset(x_test)\n",
    "    test_dataloader = DataLoader(test_dataset, batch_size=batch_size, shuffle=False)\n",
    "    model = Model(num_features, hidden_size, num_targets)\n",
    "    model.load_state_dict(torch.load(f'FOLD{fold}_.pth'))\n",
    "    model.to(device)\n",
    "\n",
    "    predictions = inference_fn(model, test_dataloader, device)\n",
    "\n",
    "    return oof, predictions"
   ]
  },
  {
   "cell_type": "code",
   "execution_count": 21,
   "id": "1446fb89",
   "metadata": {
    "execution": {
     "iopub.execute_input": "2022-05-20T15:46:41.372496Z",
     "iopub.status.busy": "2022-05-20T15:46:41.372204Z",
     "iopub.status.idle": "2022-05-20T15:46:41.380110Z",
     "shell.execute_reply": "2022-05-20T15:46:41.379421Z"
    },
    "papermill": {
     "duration": 0.071529,
     "end_time": "2022-05-20T15:46:41.382492",
     "exception": false,
     "start_time": "2022-05-20T15:46:41.310963",
     "status": "completed"
    },
    "tags": []
   },
   "outputs": [],
   "source": [
    "def run_k_fold(nfolds):\n",
    "    oof = np.zeros((len(train), len(target_col)))\n",
    "    predictions = np.zeros((len(test), len(target_col)))\n",
    "\n",
    "    for fold in range(nfolds):\n",
    "        oof_, pred_ = run_training(fold)\n",
    "        oof += oof_\n",
    "        predictions += pred_ / nfolds\n",
    "\n",
    "    return oof, predictions"
   ]
  },
  {
   "cell_type": "code",
   "execution_count": 22,
   "id": "c380ce95",
   "metadata": {
    "execution": {
     "iopub.execute_input": "2022-05-20T15:46:41.497568Z",
     "iopub.status.busy": "2022-05-20T15:46:41.497183Z",
     "iopub.status.idle": "2022-05-20T15:49:05.972640Z",
     "shell.execute_reply": "2022-05-20T15:49:05.971661Z"
    },
    "papermill": {
     "duration": 144.5365,
     "end_time": "2022-05-20T15:49:05.975562",
     "exception": false,
     "start_time": "2022-05-20T15:46:41.439062",
     "status": "completed"
    },
    "tags": []
   },
   "outputs": [
    {
     "name": "stdout",
     "output_type": "stream",
     "text": [
      "Fold 0 | Epoch 1 | train loss: 0.6999 | valid loss: 0.6543\n",
      "Fold 0 | Epoch 2 | train loss: 0.5820 | valid loss: 0.4819\n",
      "Fold 0 | Epoch 3 | train loss: 0.3227 | valid loss: 0.1750\n",
      "Fold 0 | Epoch 4 | train loss: 0.1257 | valid loss: 0.0535\n",
      "Fold 0 | Epoch 5 | train loss: 0.0489 | valid loss: 0.0324\n",
      "Fold 0 | Epoch 6 | train loss: 0.0339 | valid loss: 0.0282\n",
      "Epoch 00120: reducing learning rate of group 0 to 1.0000e-04.\n",
      "Epoch 00125: reducing learning rate of group 0 to 1.0000e-05.\n",
      "Fold 0 | Epoch 7 | train loss: 0.0288 | valid loss: 0.0268\n",
      "Epoch 00135: reducing learning rate of group 0 to 1.0000e-06.\n",
      "Epoch 00139: reducing learning rate of group 0 to 1.0000e-07.\n",
      "Epoch 00143: reducing learning rate of group 0 to 1.0000e-08.\n",
      "Fold 0 | Epoch 8 | train loss: 0.0278 | valid loss: 0.0271\n",
      "Fold 0 | Epoch 9 | train loss: 0.0275 | valid loss: 0.0268\n",
      "Fold 0 | Epoch 10 | train loss: 0.0276 | valid loss: 0.0267\n",
      "Fold 0 | Epoch 11 | train loss: 0.0279 | valid loss: 0.0269\n",
      "Fold 0 | Epoch 12 | train loss: 0.0277 | valid loss: 0.0269\n",
      "Fold 0 | Epoch 13 | train loss: 0.0275 | valid loss: 0.0267\n",
      "Fold 0 | Epoch 14 | train loss: 0.0277 | valid loss: 0.0268\n",
      "Fold 0 | Epoch 15 | train loss: 0.0277 | valid loss: 0.0268\n",
      "Fold 0 | Epoch 16 | train loss: 0.0276 | valid loss: 0.0269\n",
      "Fold 0 | Epoch 17 | train loss: 0.0274 | valid loss: 0.0268\n",
      "Fold 0 | Epoch 18 | train loss: 0.0278 | valid loss: 0.0268\n",
      "Fold 0 | Epoch 19 | train loss: 0.0277 | valid loss: 0.0269\n",
      "Fold 0 | Epoch 20 | train loss: 0.0277 | valid loss: 0.0268\n",
      "Fold 0 | Epoch 21 | train loss: 0.0280 | valid loss: 0.0268\n",
      "Fold 0 | Epoch 22 | train loss: 0.0276 | valid loss: 0.0268\n",
      "Early stop at epoch 23\n",
      "Fold 1 | Epoch 1 | train loss: 0.6994 | valid loss: 0.6747\n",
      "Fold 1 | Epoch 2 | train loss: 0.5819 | valid loss: 0.4578\n",
      "Fold 1 | Epoch 3 | train loss: 0.3274 | valid loss: 0.2093\n",
      "Fold 1 | Epoch 4 | train loss: 0.1152 | valid loss: 0.0626\n",
      "Fold 1 | Epoch 5 | train loss: 0.0465 | valid loss: 0.0352\n",
      "Fold 1 | Epoch 6 | train loss: 0.0322 | valid loss: 0.0271\n",
      "Epoch 00109: reducing learning rate of group 0 to 1.0000e-04.\n",
      "Epoch 00121: reducing learning rate of group 0 to 1.0000e-05.\n",
      "Epoch 00126: reducing learning rate of group 0 to 1.0000e-06.\n",
      "Fold 1 | Epoch 7 | train loss: 0.0284 | valid loss: 0.0271\n",
      "Epoch 00136: reducing learning rate of group 0 to 1.0000e-07.\n",
      "Epoch 00140: reducing learning rate of group 0 to 1.0000e-08.\n",
      "Fold 1 | Epoch 8 | train loss: 0.0280 | valid loss: 0.0268\n",
      "Fold 1 | Epoch 9 | train loss: 0.0278 | valid loss: 0.0270\n",
      "Fold 1 | Epoch 10 | train loss: 0.0279 | valid loss: 0.0270\n",
      "Fold 1 | Epoch 11 | train loss: 0.0283 | valid loss: 0.0270\n",
      "Fold 1 | Epoch 12 | train loss: 0.0279 | valid loss: 0.0269\n",
      "Fold 1 | Epoch 13 | train loss: 0.0278 | valid loss: 0.0269\n",
      "Fold 1 | Epoch 14 | train loss: 0.0277 | valid loss: 0.0269\n",
      "Fold 1 | Epoch 15 | train loss: 0.0286 | valid loss: 0.0269\n",
      "Fold 1 | Epoch 16 | train loss: 0.0276 | valid loss: 0.0270\n",
      "Fold 1 | Epoch 17 | train loss: 0.0275 | valid loss: 0.0269\n",
      "Fold 1 | Epoch 18 | train loss: 0.0277 | valid loss: 0.0268\n",
      "Fold 1 | Epoch 19 | train loss: 0.0275 | valid loss: 0.0269\n",
      "Fold 1 | Epoch 20 | train loss: 0.0281 | valid loss: 0.0269\n",
      "Fold 1 | Epoch 21 | train loss: 0.0284 | valid loss: 0.0270\n",
      "Fold 1 | Epoch 22 | train loss: 0.0282 | valid loss: 0.0269\n",
      "Fold 1 | Epoch 23 | train loss: 0.0281 | valid loss: 0.0268\n",
      "Fold 1 | Epoch 24 | train loss: 0.0280 | valid loss: 0.0269\n",
      "Fold 1 | Epoch 25 | train loss: 0.0282 | valid loss: 0.0269\n",
      "Fold 1 | Epoch 26 | train loss: 0.0279 | valid loss: 0.0269\n",
      "Fold 1 | Epoch 27 | train loss: 0.0277 | valid loss: 0.0270\n",
      "Fold 1 | Epoch 28 | train loss: 0.0289 | valid loss: 0.0268\n",
      "Fold 1 | Epoch 29 | train loss: 0.0277 | valid loss: 0.0268\n",
      "Fold 1 | Epoch 30 | train loss: 0.0276 | valid loss: 0.0269\n",
      "Fold 2 | Epoch 1 | train loss: 0.6991 | valid loss: 0.6667\n",
      "Fold 2 | Epoch 2 | train loss: 0.5796 | valid loss: 0.4574\n",
      "Fold 2 | Epoch 3 | train loss: 0.3227 | valid loss: 0.3990\n",
      "Fold 2 | Epoch 4 | train loss: 0.1094 | valid loss: 0.0570\n",
      "Fold 2 | Epoch 5 | train loss: 0.0470 | valid loss: 0.0349\n",
      "Epoch 00096: reducing learning rate of group 0 to 1.0000e-04.\n",
      "Epoch 00100: reducing learning rate of group 0 to 1.0000e-05.\n",
      "Epoch 00104: reducing learning rate of group 0 to 1.0000e-06.\n",
      "Epoch 00108: reducing learning rate of group 0 to 1.0000e-07.\n",
      "Fold 2 | Epoch 6 | train loss: 0.0412 | valid loss: 0.0355\n",
      "Epoch 00112: reducing learning rate of group 0 to 1.0000e-08.\n",
      "Fold 2 | Epoch 7 | train loss: 0.0371 | valid loss: 0.0347\n",
      "Fold 2 | Epoch 8 | train loss: 0.0389 | valid loss: 0.0355\n",
      "Fold 2 | Epoch 9 | train loss: 0.0376 | valid loss: 0.0354\n",
      "Fold 2 | Epoch 10 | train loss: 0.0370 | valid loss: 0.0351\n",
      "Fold 2 | Epoch 11 | train loss: 0.0399 | valid loss: 0.0358\n",
      "Fold 2 | Epoch 12 | train loss: 0.0372 | valid loss: 0.0357\n",
      "Fold 2 | Epoch 13 | train loss: 0.0369 | valid loss: 0.0359\n",
      "Fold 2 | Epoch 14 | train loss: 0.0393 | valid loss: 0.0354\n",
      "Fold 2 | Epoch 15 | train loss: 0.0375 | valid loss: 0.0356\n",
      "Fold 2 | Epoch 16 | train loss: 0.0384 | valid loss: 0.0350\n",
      "Early stop at epoch 17\n",
      "Fold 3 | Epoch 1 | train loss: 0.6989 | valid loss: 0.6702\n",
      "Fold 3 | Epoch 2 | train loss: 0.5825 | valid loss: 0.4508\n",
      "Fold 3 | Epoch 3 | train loss: 0.3290 | valid loss: 0.2620\n",
      "Fold 3 | Epoch 4 | train loss: 0.1116 | valid loss: 0.0565\n",
      "Fold 3 | Epoch 5 | train loss: 0.0485 | valid loss: 0.0352\n",
      "Fold 3 | Epoch 6 | train loss: 0.0329 | valid loss: 0.0277\n",
      "Epoch 00109: reducing learning rate of group 0 to 1.0000e-04.\n",
      "Epoch 00116: reducing learning rate of group 0 to 1.0000e-05.\n",
      "Epoch 00120: reducing learning rate of group 0 to 1.0000e-06.\n",
      "Epoch 00124: reducing learning rate of group 0 to 1.0000e-07.\n",
      "Fold 3 | Epoch 7 | train loss: 0.0289 | valid loss: 0.0274\n",
      "Epoch 00128: reducing learning rate of group 0 to 1.0000e-08.\n",
      "Fold 3 | Epoch 8 | train loss: 0.0286 | valid loss: 0.0273\n",
      "Fold 3 | Epoch 9 | train loss: 0.0279 | valid loss: 0.0273\n",
      "Fold 3 | Epoch 10 | train loss: 0.0289 | valid loss: 0.0273\n",
      "Fold 3 | Epoch 11 | train loss: 0.0286 | valid loss: 0.0273\n",
      "Fold 3 | Epoch 12 | train loss: 0.0295 | valid loss: 0.0272\n",
      "Fold 3 | Epoch 13 | train loss: 0.0284 | valid loss: 0.0273\n",
      "Fold 3 | Epoch 14 | train loss: 0.0288 | valid loss: 0.0274\n",
      "Fold 3 | Epoch 15 | train loss: 0.0290 | valid loss: 0.0273\n",
      "Fold 3 | Epoch 16 | train loss: 0.0287 | valid loss: 0.0273\n",
      "Fold 3 | Epoch 17 | train loss: 0.0284 | valid loss: 0.0273\n",
      "Fold 3 | Epoch 18 | train loss: 0.0282 | valid loss: 0.0273\n",
      "Fold 3 | Epoch 19 | train loss: 0.0290 | valid loss: 0.0274\n",
      "Fold 3 | Epoch 20 | train loss: 0.0282 | valid loss: 0.0274\n",
      "Fold 3 | Epoch 21 | train loss: 0.0279 | valid loss: 0.0275\n",
      "Early stop at epoch 22\n",
      "Fold 4 | Epoch 1 | train loss: 0.7005 | valid loss: 0.6651\n",
      "Fold 4 | Epoch 2 | train loss: 0.5871 | valid loss: 0.4562\n",
      "Fold 4 | Epoch 3 | train loss: 0.3308 | valid loss: 0.2011\n",
      "Fold 4 | Epoch 4 | train loss: 0.1184 | valid loss: 0.0843\n",
      "Fold 4 | Epoch 5 | train loss: 0.0483 | valid loss: 0.0352\n",
      "Fold 4 | Epoch 6 | train loss: 0.0327 | valid loss: 0.0288\n",
      "Epoch 00113: reducing learning rate of group 0 to 1.0000e-04.\n",
      "Epoch 00119: reducing learning rate of group 0 to 1.0000e-05.\n",
      "Epoch 00123: reducing learning rate of group 0 to 1.0000e-06.\n",
      "Fold 4 | Epoch 7 | train loss: 0.0284 | valid loss: 0.0275\n",
      "Epoch 00127: reducing learning rate of group 0 to 1.0000e-07.\n",
      "Epoch 00131: reducing learning rate of group 0 to 1.0000e-08.\n",
      "Fold 4 | Epoch 8 | train loss: 0.0283 | valid loss: 0.0275\n",
      "Fold 4 | Epoch 9 | train loss: 0.0282 | valid loss: 0.0275\n",
      "Fold 4 | Epoch 10 | train loss: 0.0292 | valid loss: 0.0275\n",
      "Fold 4 | Epoch 11 | train loss: 0.0280 | valid loss: 0.0275\n",
      "Fold 4 | Epoch 12 | train loss: 0.0281 | valid loss: 0.0277\n",
      "Fold 4 | Epoch 13 | train loss: 0.0280 | valid loss: 0.0276\n",
      "Fold 4 | Epoch 14 | train loss: 0.0289 | valid loss: 0.0276\n",
      "Fold 4 | Epoch 15 | train loss: 0.0278 | valid loss: 0.0275\n",
      "Fold 4 | Epoch 16 | train loss: 0.0282 | valid loss: 0.0276\n",
      "Fold 4 | Epoch 17 | train loss: 0.0281 | valid loss: 0.0275\n",
      "Fold 4 | Epoch 18 | train loss: 0.0281 | valid loss: 0.0275\n",
      "Fold 4 | Epoch 19 | train loss: 0.0282 | valid loss: 0.0276\n",
      "Early stop at epoch 20\n"
     ]
    },
    {
     "name": "stderr",
     "output_type": "stream",
     "text": [
      "/opt/conda/lib/python3.7/site-packages/pandas/core/frame.py:3678: PerformanceWarning: DataFrame is highly fragmented.  This is usually the result of calling `frame.insert` many times, which has poor performance.  Consider joining all columns at once using pd.concat(axis=1) instead.  To get a de-fragmented frame, use `newframe = frame.copy()`\n",
      "  self[col] = igetitem(value, i)\n"
     ]
    }
   ],
   "source": [
    "oof, predictions = run_k_fold(nfolds)\n",
    "# 将输出存入原dataframe的target列\n",
    "train[target_col] = oof\n",
    "test[target_col] = predictions"
   ]
  },
  {
   "cell_type": "markdown",
   "id": "ac55aeea",
   "metadata": {
    "papermill": {
     "duration": 0.087392,
     "end_time": "2022-05-20T15:49:06.147814",
     "exception": false,
     "start_time": "2022-05-20T15:49:06.060422",
     "status": "completed"
    },
    "tags": []
   },
   "source": [
    "## Submit"
   ]
  },
  {
   "cell_type": "code",
   "execution_count": 23,
   "id": "d3abcaf6",
   "metadata": {
    "execution": {
     "iopub.execute_input": "2022-05-20T15:49:06.320806Z",
     "iopub.status.busy": "2022-05-20T15:49:06.320181Z",
     "iopub.status.idle": "2022-05-20T15:49:06.327007Z",
     "shell.execute_reply": "2022-05-20T15:49:06.326043Z"
    },
    "papermill": {
     "duration": 0.095004,
     "end_time": "2022-05-20T15:49:06.329237",
     "exception": false,
     "start_time": "2022-05-20T15:49:06.234233",
     "status": "completed"
    },
    "tags": []
   },
   "outputs": [
    {
     "data": {
      "text/plain": [
       "((23814, 207), 206)"
      ]
     },
     "execution_count": 23,
     "metadata": {},
     "output_type": "execute_result"
    }
   ],
   "source": [
    "train_targets_scored.shape, len(target_col)"
   ]
  },
  {
   "cell_type": "code",
   "execution_count": 24,
   "id": "b5a4da72",
   "metadata": {
    "execution": {
     "iopub.execute_input": "2022-05-20T15:49:06.505897Z",
     "iopub.status.busy": "2022-05-20T15:49:06.505510Z",
     "iopub.status.idle": "2022-05-20T15:49:07.789222Z",
     "shell.execute_reply": "2022-05-20T15:49:07.788485Z"
    },
    "papermill": {
     "duration": 1.375422,
     "end_time": "2022-05-20T15:49:07.791533",
     "exception": false,
     "start_time": "2022-05-20T15:49:06.416111",
     "status": "completed"
    },
    "tags": []
   },
   "outputs": [
    {
     "name": "stdout",
     "output_type": "stream",
     "text": [
      "CV log_loss:  0.11801833565930656\n"
     ]
    }
   ],
   "source": [
    "valid_results = train_targets_scored.drop(columns=target_col).merge(train[['sig_id']+target_col], on='sig_id', how='left').fillna(0)\n",
    "\n",
    "y_true = train_targets_scored[target_col].values\n",
    "y_pred = valid_results[target_col].values\n",
    "\n",
    "score = 0\n",
    "for i in range(len(target_col)):\n",
    "    score_ = log_loss(y_true[:, i], y_pred[:, i])\n",
    "    score += score_ / target.shape[1]\n",
    "    \n",
    "print(\"CV log_loss: \", score)"
   ]
  },
  {
   "cell_type": "code",
   "execution_count": 25,
   "id": "cc93535d",
   "metadata": {
    "execution": {
     "iopub.execute_input": "2022-05-20T15:49:07.964507Z",
     "iopub.status.busy": "2022-05-20T15:49:07.963511Z",
     "iopub.status.idle": "2022-05-20T15:49:09.665729Z",
     "shell.execute_reply": "2022-05-20T15:49:09.664968Z"
    },
    "papermill": {
     "duration": 1.7916,
     "end_time": "2022-05-20T15:49:09.668120",
     "exception": false,
     "start_time": "2022-05-20T15:49:07.876520",
     "status": "completed"
    },
    "tags": []
   },
   "outputs": [],
   "source": [
    "sample_submission = pd.read_csv('../input/lish-moa/sample_submission.csv')\n",
    "sub = sample_submission.drop(columns=target_col).merge(test[['sig_id']+target_col], on='sig_id', how='left').fillna(0)\n",
    "sub.to_csv('submission.csv', index=False)"
   ]
  }
 ],
 "metadata": {
  "kernelspec": {
   "display_name": "Python 3",
   "language": "python",
   "name": "python3"
  },
  "language_info": {
   "codemirror_mode": {
    "name": "ipython",
    "version": 3
   },
   "file_extension": ".py",
   "mimetype": "text/x-python",
   "name": "python",
   "nbconvert_exporter": "python",
   "pygments_lexer": "ipython3",
   "version": "3.7.12"
  },
  "papermill": {
   "default_parameters": {},
   "duration": 180.219411,
   "end_time": "2022-05-20T15:49:10.974014",
   "environment_variables": {},
   "exception": null,
   "input_path": "__notebook__.ipynb",
   "output_path": "__notebook__.ipynb",
   "parameters": {},
   "start_time": "2022-05-20T15:46:10.754603",
   "version": "2.3.4"
  }
 },
 "nbformat": 4,
 "nbformat_minor": 5
}
