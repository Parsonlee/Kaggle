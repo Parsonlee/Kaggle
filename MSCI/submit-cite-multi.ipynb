{
 "cells": [
  {
   "cell_type": "code",
   "execution_count": 1,
   "id": "97c186fe",
   "metadata": {
    "_cell_guid": "b1076dfc-b9ad-4769-8c92-a6c4dae69d19",
    "_uuid": "8f2839f25d086af736a60e9eeb907d3b93b6e0e5",
    "execution": {
     "iopub.execute_input": "2022-09-17T10:08:36.048333Z",
     "iopub.status.busy": "2022-09-17T10:08:36.046845Z",
     "iopub.status.idle": "2022-09-17T10:08:36.082663Z",
     "shell.execute_reply": "2022-09-17T10:08:36.081237Z"
    },
    "papermill": {
     "duration": 0.045485,
     "end_time": "2022-09-17T10:08:36.086972",
     "exception": false,
     "start_time": "2022-09-17T10:08:36.041487",
     "status": "completed"
    },
    "tags": []
   },
   "outputs": [
    {
     "name": "stdout",
     "output_type": "stream",
     "text": [
      "/kaggle/input/open-problems-multimodal/sample_submission.csv\n",
      "/kaggle/input/open-problems-multimodal/train_cite_targets.h5\n",
      "/kaggle/input/open-problems-multimodal/metadata_cite_day_2_donor_27678.csv\n",
      "/kaggle/input/open-problems-multimodal/test_multi_inputs.h5\n",
      "/kaggle/input/open-problems-multimodal/evaluation_ids.csv\n",
      "/kaggle/input/open-problems-multimodal/train_cite_inputs.h5\n",
      "/kaggle/input/open-problems-multimodal/train_multi_targets.h5\n",
      "/kaggle/input/open-problems-multimodal/train_multi_inputs.h5\n",
      "/kaggle/input/open-problems-multimodal/metadata.csv\n",
      "/kaggle/input/open-problems-multimodal/test_cite_inputs_day_2_donor_27678.h5\n",
      "/kaggle/input/open-problems-multimodal/test_cite_inputs.h5\n",
      "/kaggle/input/torch-model-cite/cite_test_pred.npy\n",
      "/kaggle/input/torch-model-cite/__results__.html\n",
      "/kaggle/input/torch-model-cite/partial_submission_cite.pickle\n",
      "/kaggle/input/torch-model-cite/__notebook__.ipynb\n",
      "/kaggle/input/torch-model-cite/__output__.json\n",
      "/kaggle/input/torch-model-cite/reg_model_cite\n",
      "/kaggle/input/torch-model-cite/custom.css\n",
      "/kaggle/input/torch-model-multi/partial_submission_multi.pickle\n",
      "/kaggle/input/torch-model-multi/multi_test_pred.npy\n",
      "/kaggle/input/torch-model-multi/__results__.html\n",
      "/kaggle/input/torch-model-multi/reg_model_multi\n",
      "/kaggle/input/torch-model-multi/__notebook__.ipynb\n",
      "/kaggle/input/torch-model-multi/__output__.json\n",
      "/kaggle/input/torch-model-multi/custom.css\n",
      "/kaggle/input/data-process/multi_test_col_name.npy\n",
      "/kaggle/input/data-process/multi_test_row.npy\n",
      "/kaggle/input/data-process/test_cite_inputs_sparse.npz\n",
      "/kaggle/input/data-process/multi_y_mean.npy\n",
      "/kaggle/input/data-process/multi_test_col.npy\n",
      "/kaggle/input/data-process/__results__.html\n",
      "/kaggle/input/data-process/multi_y_std.npy\n",
      "/kaggle/input/data-process/multi_test_row_name.npy\n",
      "/kaggle/input/data-process/train_cite_inputs_sparse.npz\n",
      "/kaggle/input/data-process/train_cite_targets_sparse.npz\n",
      "/kaggle/input/data-process/__notebook__.ipynb\n",
      "/kaggle/input/data-process/__output__.json\n",
      "/kaggle/input/data-process/custom.css\n",
      "/kaggle/input/open-problems-msci-multiome-sparse-matrices/train_multi_targets_sparse.npz\n",
      "/kaggle/input/open-problems-msci-multiome-sparse-matrices/test_multi_inputs_sparse.npz\n",
      "/kaggle/input/open-problems-msci-multiome-sparse-matrices/train_multiome_input_sparse.npz\n"
     ]
    }
   ],
   "source": [
    "# This Python 3 environment comes with many helpful analytics libraries installed\n",
    "# It is defined by the kaggle/python Docker image: https://github.com/kaggle/docker-python\n",
    "# For example, here's several helpful packages to load\n",
    "\n",
    "import numpy as np # linear algebra\n",
    "import pandas as pd # data processing, CSV file I/O (e.g. pd.read_csv)\n",
    "\n",
    "# Input data files are available in the read-only \"../input/\" directory\n",
    "# For example, running this (by clicking run or pressing Shift+Enter) will list all files under the input directory\n",
    "\n",
    "import os\n",
    "for dirname, _, filenames in os.walk('/kaggle/input'):\n",
    "    for filename in filenames:\n",
    "        print(os.path.join(dirname, filename))\n",
    "\n",
    "# You can write up to 20GB to the current directory (/kaggle/working/) that gets preserved as output when you create a version using \"Save & Run All\" \n",
    "# You can also write temporary files to /kaggle/temp/, but they won't be saved outside of the current session"
   ]
  },
  {
   "cell_type": "code",
   "execution_count": 2,
   "id": "dd43d987",
   "metadata": {
    "execution": {
     "iopub.execute_input": "2022-09-17T10:08:36.094181Z",
     "iopub.status.busy": "2022-09-17T10:08:36.093521Z",
     "iopub.status.idle": "2022-09-17T10:08:40.401495Z",
     "shell.execute_reply": "2022-09-17T10:08:40.400246Z"
    },
    "papermill": {
     "duration": 4.314737,
     "end_time": "2022-09-17T10:08:40.404519",
     "exception": false,
     "start_time": "2022-09-17T10:08:36.089782",
     "status": "completed"
    },
    "tags": []
   },
   "outputs": [],
   "source": [
    "import pickle\n",
    "import pandas as pd\n",
    "import numpy as np\n",
    "with open('../input/torch-model-cite/partial_submission_cite.pickle','rb') as f:\n",
    "    cite = pickle.load(f)\n",
    "with open('../input/torch-model-multi/partial_submission_multi.pickle','rb') as f:\n",
    "    multi = pickle.load(f)"
   ]
  },
  {
   "cell_type": "code",
   "execution_count": 3,
   "id": "a24d1d0c",
   "metadata": {
    "execution": {
     "iopub.execute_input": "2022-09-17T10:08:40.411457Z",
     "iopub.status.busy": "2022-09-17T10:08:40.411054Z",
     "iopub.status.idle": "2022-09-17T10:08:40.655468Z",
     "shell.execute_reply": "2022-09-17T10:08:40.653982Z"
    },
    "papermill": {
     "duration": 0.251881,
     "end_time": "2022-09-17T10:08:40.659123",
     "exception": false,
     "start_time": "2022-09-17T10:08:40.407242",
     "status": "completed"
    },
    "tags": []
   },
   "outputs": [
    {
     "name": "stdout",
     "output_type": "stream",
     "text": [
      "na: 58931360\n",
      "na: 6812820\n"
     ]
    }
   ],
   "source": [
    "print('na:', cite.isna().sum())\n",
    "print('na:', multi.isna().sum())"
   ]
  },
  {
   "cell_type": "code",
   "execution_count": 4,
   "id": "7d8bb673",
   "metadata": {
    "execution": {
     "iopub.execute_input": "2022-09-17T10:08:40.666344Z",
     "iopub.status.busy": "2022-09-17T10:08:40.665952Z",
     "iopub.status.idle": "2022-09-17T10:08:41.168197Z",
     "shell.execute_reply": "2022-09-17T10:08:41.166829Z"
    },
    "papermill": {
     "duration": 0.509017,
     "end_time": "2022-09-17T10:08:41.171060",
     "exception": false,
     "start_time": "2022-09-17T10:08:40.662043",
     "status": "completed"
    },
    "tags": []
   },
   "outputs": [],
   "source": [
    "multi.iloc[:cite[~cite.isna()].shape[0]]=cite[~cite.isna()].values"
   ]
  },
  {
   "cell_type": "code",
   "execution_count": 5,
   "id": "252e2476",
   "metadata": {
    "execution": {
     "iopub.execute_input": "2022-09-17T10:08:41.179388Z",
     "iopub.status.busy": "2022-09-17T10:08:41.178847Z",
     "iopub.status.idle": "2022-09-17T10:10:49.202748Z",
     "shell.execute_reply": "2022-09-17T10:10:49.201500Z"
    },
    "papermill": {
     "duration": 128.031558,
     "end_time": "2022-09-17T10:10:49.205956",
     "exception": false,
     "start_time": "2022-09-17T10:08:41.174398",
     "status": "completed"
    },
    "tags": []
   },
   "outputs": [],
   "source": [
    "assert not multi.isna().any()\n",
    "multi.to_csv('submission.csv')"
   ]
  },
  {
   "cell_type": "code",
   "execution_count": 6,
   "id": "5178f495",
   "metadata": {
    "execution": {
     "iopub.execute_input": "2022-09-17T10:10:49.213803Z",
     "iopub.status.busy": "2022-09-17T10:10:49.213386Z",
     "iopub.status.idle": "2022-09-17T10:10:50.327264Z",
     "shell.execute_reply": "2022-09-17T10:10:50.325846Z"
    },
    "papermill": {
     "duration": 1.120992,
     "end_time": "2022-09-17T10:10:50.330188",
     "exception": false,
     "start_time": "2022-09-17T10:10:49.209196",
     "status": "completed"
    },
    "tags": []
   },
   "outputs": [
    {
     "name": "stdout",
     "output_type": "stream",
     "text": [
      "row_id,target\r\n",
      "0,0.09460453\r\n"
     ]
    }
   ],
   "source": [
    "!head -n2 submission.csv"
   ]
  }
 ],
 "metadata": {
  "kernelspec": {
   "display_name": "Python 3",
   "language": "python",
   "name": "python3"
  },
  "language_info": {
   "codemirror_mode": {
    "name": "ipython",
    "version": 3
   },
   "file_extension": ".py",
   "mimetype": "text/x-python",
   "name": "python",
   "nbconvert_exporter": "python",
   "pygments_lexer": "ipython3",
   "version": "3.7.12"
  },
  "papermill": {
   "default_parameters": {},
   "duration": 144.798812,
   "end_time": "2022-09-17T10:10:51.158365",
   "environment_variables": {},
   "exception": null,
   "input_path": "__notebook__.ipynb",
   "output_path": "__notebook__.ipynb",
   "parameters": {},
   "start_time": "2022-09-17T10:08:26.359553",
   "version": "2.3.4"
  }
 },
 "nbformat": 4,
 "nbformat_minor": 5
}
