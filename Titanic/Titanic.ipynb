{
 "cells": [
  {
   "cell_type": "markdown",
   "metadata": {},
   "source": [
    "## 导入包，读入数据集"
   ]
  },
  {
   "cell_type": "code",
   "execution_count": 1,
   "metadata": {},
   "outputs": [],
   "source": [
    "import numpy as np\n",
    "import pandas as pd\n",
    "import torch\n",
    "from torch import nn\n",
    "from torch.utils.data import DataLoader, Dataset\n",
    "import matplotlib.pyplot as plt"
   ]
  },
  {
   "cell_type": "code",
   "execution_count": 2,
   "metadata": {},
   "outputs": [
    {
     "data": {
      "text/plain": [
       "((891, 12), (418, 11))"
      ]
     },
     "execution_count": 2,
     "metadata": {},
     "output_type": "execute_result"
    }
   ],
   "source": [
    "train = pd.read_csv('./data/train.csv')\n",
    "test = pd.read_csv('./data/test.csv')\n",
    "train.shape, test.shape"
   ]
  },
  {
   "cell_type": "markdown",
   "metadata": {},
   "source": [
    "## 数据预处理"
   ]
  },
  {
   "cell_type": "code",
   "execution_count": 3,
   "metadata": {},
   "outputs": [
    {
     "data": {
      "text/html": [
       "<div>\n",
       "<style scoped>\n",
       "    .dataframe tbody tr th:only-of-type {\n",
       "        vertical-align: middle;\n",
       "    }\n",
       "\n",
       "    .dataframe tbody tr th {\n",
       "        vertical-align: top;\n",
       "    }\n",
       "\n",
       "    .dataframe thead th {\n",
       "        text-align: right;\n",
       "    }\n",
       "</style>\n",
       "<table border=\"1\" class=\"dataframe\">\n",
       "  <thead>\n",
       "    <tr style=\"text-align: right;\">\n",
       "      <th></th>\n",
       "      <th>Pclass</th>\n",
       "      <th>Sex</th>\n",
       "      <th>Age</th>\n",
       "      <th>SibSp</th>\n",
       "      <th>Parch</th>\n",
       "      <th>Fare</th>\n",
       "      <th>Embarked</th>\n",
       "    </tr>\n",
       "  </thead>\n",
       "  <tbody>\n",
       "    <tr>\n",
       "      <th>0</th>\n",
       "      <td>3</td>\n",
       "      <td>0</td>\n",
       "      <td>22.0</td>\n",
       "      <td>1</td>\n",
       "      <td>0</td>\n",
       "      <td>7.2500</td>\n",
       "      <td>S</td>\n",
       "    </tr>\n",
       "    <tr>\n",
       "      <th>1</th>\n",
       "      <td>1</td>\n",
       "      <td>1</td>\n",
       "      <td>38.0</td>\n",
       "      <td>1</td>\n",
       "      <td>0</td>\n",
       "      <td>71.2833</td>\n",
       "      <td>C</td>\n",
       "    </tr>\n",
       "    <tr>\n",
       "      <th>2</th>\n",
       "      <td>3</td>\n",
       "      <td>1</td>\n",
       "      <td>26.0</td>\n",
       "      <td>0</td>\n",
       "      <td>0</td>\n",
       "      <td>7.9250</td>\n",
       "      <td>S</td>\n",
       "    </tr>\n",
       "    <tr>\n",
       "      <th>3</th>\n",
       "      <td>1</td>\n",
       "      <td>1</td>\n",
       "      <td>35.0</td>\n",
       "      <td>1</td>\n",
       "      <td>0</td>\n",
       "      <td>53.1000</td>\n",
       "      <td>S</td>\n",
       "    </tr>\n",
       "    <tr>\n",
       "      <th>4</th>\n",
       "      <td>3</td>\n",
       "      <td>0</td>\n",
       "      <td>35.0</td>\n",
       "      <td>0</td>\n",
       "      <td>0</td>\n",
       "      <td>8.0500</td>\n",
       "      <td>S</td>\n",
       "    </tr>\n",
       "  </tbody>\n",
       "</table>\n",
       "</div>"
      ],
      "text/plain": [
       "   Pclass  Sex   Age  SibSp  Parch     Fare Embarked\n",
       "0       3    0  22.0      1      0   7.2500        S\n",
       "1       1    1  38.0      1      0  71.2833        C\n",
       "2       3    1  26.0      0      0   7.9250        S\n",
       "3       1    1  35.0      1      0  53.1000        S\n",
       "4       3    0  35.0      0      0   8.0500        S"
      ]
     },
     "execution_count": 3,
     "metadata": {},
     "output_type": "execute_result"
    }
   ],
   "source": [
    "y = np.array(train['Survived'])\n",
    "train = train.drop(['PassengerId', 'Survived', 'Name', 'Ticket', 'Cabin'], axis=1)\n",
    "test = test.drop(['PassengerId', 'Name', 'Ticket', 'Cabin'], axis=1)\n",
    "\n",
    "all_features = pd.concat([train, test])\n",
    "all_features.Sex = all_features.Sex.map({'male':0,'female':1})  #male变成0，female变成1\n",
    "all_features.head()"
   ]
  },
  {
   "cell_type": "code",
   "execution_count": 4,
   "metadata": {},
   "outputs": [
    {
     "data": {
      "text/html": [
       "<div>\n",
       "<style scoped>\n",
       "    .dataframe tbody tr th:only-of-type {\n",
       "        vertical-align: middle;\n",
       "    }\n",
       "\n",
       "    .dataframe tbody tr th {\n",
       "        vertical-align: top;\n",
       "    }\n",
       "\n",
       "    .dataframe thead th {\n",
       "        text-align: right;\n",
       "    }\n",
       "</style>\n",
       "<table border=\"1\" class=\"dataframe\">\n",
       "  <thead>\n",
       "    <tr style=\"text-align: right;\">\n",
       "      <th></th>\n",
       "      <th>Pclass</th>\n",
       "      <th>Sex</th>\n",
       "      <th>Age</th>\n",
       "      <th>SibSp</th>\n",
       "      <th>Parch</th>\n",
       "      <th>Fare</th>\n",
       "    </tr>\n",
       "  </thead>\n",
       "  <tbody>\n",
       "    <tr>\n",
       "      <th>0</th>\n",
       "      <td>0.841595</td>\n",
       "      <td>-0.743213</td>\n",
       "      <td>-0.546789</td>\n",
       "      <td>0.481104</td>\n",
       "      <td>-0.444829</td>\n",
       "      <td>-0.503210</td>\n",
       "    </tr>\n",
       "    <tr>\n",
       "      <th>1</th>\n",
       "      <td>-1.545507</td>\n",
       "      <td>1.344482</td>\n",
       "      <td>0.563282</td>\n",
       "      <td>0.481104</td>\n",
       "      <td>-0.444829</td>\n",
       "      <td>0.733941</td>\n",
       "    </tr>\n",
       "    <tr>\n",
       "      <th>2</th>\n",
       "      <td>0.841595</td>\n",
       "      <td>1.344482</td>\n",
       "      <td>-0.269271</td>\n",
       "      <td>-0.478904</td>\n",
       "      <td>-0.444829</td>\n",
       "      <td>-0.490169</td>\n",
       "    </tr>\n",
       "    <tr>\n",
       "      <th>3</th>\n",
       "      <td>-1.545507</td>\n",
       "      <td>1.344482</td>\n",
       "      <td>0.355144</td>\n",
       "      <td>0.481104</td>\n",
       "      <td>-0.444829</td>\n",
       "      <td>0.382632</td>\n",
       "    </tr>\n",
       "    <tr>\n",
       "      <th>4</th>\n",
       "      <td>0.841595</td>\n",
       "      <td>-0.743213</td>\n",
       "      <td>0.355144</td>\n",
       "      <td>-0.478904</td>\n",
       "      <td>-0.444829</td>\n",
       "      <td>-0.487754</td>\n",
       "    </tr>\n",
       "    <tr>\n",
       "      <th>...</th>\n",
       "      <td>...</td>\n",
       "      <td>...</td>\n",
       "      <td>...</td>\n",
       "      <td>...</td>\n",
       "      <td>...</td>\n",
       "      <td>...</td>\n",
       "    </tr>\n",
       "    <tr>\n",
       "      <th>413</th>\n",
       "      <td>0.841595</td>\n",
       "      <td>-0.743213</td>\n",
       "      <td>0.000000</td>\n",
       "      <td>-0.478904</td>\n",
       "      <td>-0.444829</td>\n",
       "      <td>-0.487754</td>\n",
       "    </tr>\n",
       "    <tr>\n",
       "      <th>414</th>\n",
       "      <td>-1.545507</td>\n",
       "      <td>1.344482</td>\n",
       "      <td>0.632662</td>\n",
       "      <td>-0.478904</td>\n",
       "      <td>-0.444829</td>\n",
       "      <td>1.460712</td>\n",
       "    </tr>\n",
       "    <tr>\n",
       "      <th>415</th>\n",
       "      <td>0.841595</td>\n",
       "      <td>-0.743213</td>\n",
       "      <td>0.597972</td>\n",
       "      <td>-0.478904</td>\n",
       "      <td>-0.444829</td>\n",
       "      <td>-0.503210</td>\n",
       "    </tr>\n",
       "    <tr>\n",
       "      <th>416</th>\n",
       "      <td>0.841595</td>\n",
       "      <td>-0.743213</td>\n",
       "      <td>0.000000</td>\n",
       "      <td>-0.478904</td>\n",
       "      <td>-0.444829</td>\n",
       "      <td>-0.487754</td>\n",
       "    </tr>\n",
       "    <tr>\n",
       "      <th>417</th>\n",
       "      <td>0.841595</td>\n",
       "      <td>-0.743213</td>\n",
       "      <td>0.000000</td>\n",
       "      <td>0.481104</td>\n",
       "      <td>0.710492</td>\n",
       "      <td>-0.211311</td>\n",
       "    </tr>\n",
       "  </tbody>\n",
       "</table>\n",
       "<p>1309 rows × 6 columns</p>\n",
       "</div>"
      ],
      "text/plain": [
       "       Pclass       Sex       Age     SibSp     Parch      Fare\n",
       "0    0.841595 -0.743213 -0.546789  0.481104 -0.444829 -0.503210\n",
       "1   -1.545507  1.344482  0.563282  0.481104 -0.444829  0.733941\n",
       "2    0.841595  1.344482 -0.269271 -0.478904 -0.444829 -0.490169\n",
       "3   -1.545507  1.344482  0.355144  0.481104 -0.444829  0.382632\n",
       "4    0.841595 -0.743213  0.355144 -0.478904 -0.444829 -0.487754\n",
       "..        ...       ...       ...       ...       ...       ...\n",
       "413  0.841595 -0.743213  0.000000 -0.478904 -0.444829 -0.487754\n",
       "414 -1.545507  1.344482  0.632662 -0.478904 -0.444829  1.460712\n",
       "415  0.841595 -0.743213  0.597972 -0.478904 -0.444829 -0.503210\n",
       "416  0.841595 -0.743213  0.000000 -0.478904 -0.444829 -0.487754\n",
       "417  0.841595 -0.743213  0.000000  0.481104  0.710492 -0.211311\n",
       "\n",
       "[1309 rows x 6 columns]"
      ]
     },
     "execution_count": 4,
     "metadata": {},
     "output_type": "execute_result"
    }
   ],
   "source": [
    "# 对数值列做normalization\n",
    "numeric_features = all_features.dtypes[all_features.dtypes != 'object'].index\n",
    "all_features[numeric_features] = all_features[numeric_features].apply(\n",
    "    lambda x: (x - x.mean()) / x.std()\n",
    ")\n",
    "all_features[numeric_features] = all_features[numeric_features].fillna(0)\n",
    "all_features[numeric_features]"
   ]
  },
  {
   "cell_type": "markdown",
   "metadata": {},
   "source": [
    "处理离散值，One-Hot Encode"
   ]
  },
  {
   "cell_type": "code",
   "execution_count": 5,
   "metadata": {},
   "outputs": [
    {
     "data": {
      "text/html": [
       "<div>\n",
       "<style scoped>\n",
       "    .dataframe tbody tr th:only-of-type {\n",
       "        vertical-align: middle;\n",
       "    }\n",
       "\n",
       "    .dataframe tbody tr th {\n",
       "        vertical-align: top;\n",
       "    }\n",
       "\n",
       "    .dataframe thead th {\n",
       "        text-align: right;\n",
       "    }\n",
       "</style>\n",
       "<table border=\"1\" class=\"dataframe\">\n",
       "  <thead>\n",
       "    <tr style=\"text-align: right;\">\n",
       "      <th></th>\n",
       "      <th>Pclass</th>\n",
       "      <th>Sex</th>\n",
       "      <th>Age</th>\n",
       "      <th>SibSp</th>\n",
       "      <th>Parch</th>\n",
       "      <th>Fare</th>\n",
       "      <th>Embarked_C</th>\n",
       "      <th>Embarked_Q</th>\n",
       "      <th>Embarked_S</th>\n",
       "      <th>Embarked_nan</th>\n",
       "    </tr>\n",
       "  </thead>\n",
       "  <tbody>\n",
       "    <tr>\n",
       "      <th>0</th>\n",
       "      <td>0.841595</td>\n",
       "      <td>-0.743213</td>\n",
       "      <td>-0.546789</td>\n",
       "      <td>0.481104</td>\n",
       "      <td>-0.444829</td>\n",
       "      <td>-0.503210</td>\n",
       "      <td>0</td>\n",
       "      <td>0</td>\n",
       "      <td>1</td>\n",
       "      <td>0</td>\n",
       "    </tr>\n",
       "    <tr>\n",
       "      <th>1</th>\n",
       "      <td>-1.545507</td>\n",
       "      <td>1.344482</td>\n",
       "      <td>0.563282</td>\n",
       "      <td>0.481104</td>\n",
       "      <td>-0.444829</td>\n",
       "      <td>0.733941</td>\n",
       "      <td>1</td>\n",
       "      <td>0</td>\n",
       "      <td>0</td>\n",
       "      <td>0</td>\n",
       "    </tr>\n",
       "    <tr>\n",
       "      <th>2</th>\n",
       "      <td>0.841595</td>\n",
       "      <td>1.344482</td>\n",
       "      <td>-0.269271</td>\n",
       "      <td>-0.478904</td>\n",
       "      <td>-0.444829</td>\n",
       "      <td>-0.490169</td>\n",
       "      <td>0</td>\n",
       "      <td>0</td>\n",
       "      <td>1</td>\n",
       "      <td>0</td>\n",
       "    </tr>\n",
       "    <tr>\n",
       "      <th>3</th>\n",
       "      <td>-1.545507</td>\n",
       "      <td>1.344482</td>\n",
       "      <td>0.355144</td>\n",
       "      <td>0.481104</td>\n",
       "      <td>-0.444829</td>\n",
       "      <td>0.382632</td>\n",
       "      <td>0</td>\n",
       "      <td>0</td>\n",
       "      <td>1</td>\n",
       "      <td>0</td>\n",
       "    </tr>\n",
       "    <tr>\n",
       "      <th>4</th>\n",
       "      <td>0.841595</td>\n",
       "      <td>-0.743213</td>\n",
       "      <td>0.355144</td>\n",
       "      <td>-0.478904</td>\n",
       "      <td>-0.444829</td>\n",
       "      <td>-0.487754</td>\n",
       "      <td>0</td>\n",
       "      <td>0</td>\n",
       "      <td>1</td>\n",
       "      <td>0</td>\n",
       "    </tr>\n",
       "  </tbody>\n",
       "</table>\n",
       "</div>"
      ],
      "text/plain": [
       "     Pclass       Sex       Age     SibSp     Parch      Fare  Embarked_C  \\\n",
       "0  0.841595 -0.743213 -0.546789  0.481104 -0.444829 -0.503210           0   \n",
       "1 -1.545507  1.344482  0.563282  0.481104 -0.444829  0.733941           1   \n",
       "2  0.841595  1.344482 -0.269271 -0.478904 -0.444829 -0.490169           0   \n",
       "3 -1.545507  1.344482  0.355144  0.481104 -0.444829  0.382632           0   \n",
       "4  0.841595 -0.743213  0.355144 -0.478904 -0.444829 -0.487754           0   \n",
       "\n",
       "   Embarked_Q  Embarked_S  Embarked_nan  \n",
       "0           0           1             0  \n",
       "1           0           0             0  \n",
       "2           0           1             0  \n",
       "3           0           1             0  \n",
       "4           0           1             0  "
      ]
     },
     "execution_count": 5,
     "metadata": {},
     "output_type": "execute_result"
    }
   ],
   "source": [
    "all_features = pd.get_dummies(all_features, dummy_na=True)\n",
    "all_features[:5]"
   ]
  },
  {
   "cell_type": "markdown",
   "metadata": {},
   "source": [
    "通过values属性，将值提出来，转成张量"
   ]
  },
  {
   "cell_type": "code",
   "execution_count": 6,
   "metadata": {},
   "outputs": [
    {
     "name": "stdout",
     "output_type": "stream",
     "text": [
      "training set: torch.Size([713, 10]), \n",
      "validation set: torch.Size([178, 10]), \n",
      "test set: torch.Size([418, 10])\n",
      "\n",
      "torch.Size([713]) torch.Size([178])\n"
     ]
    }
   ],
   "source": [
    "n_train = train.shape[0]\n",
    "# n_valid = len(train) - n_train\n",
    "\n",
    "train_labels = torch.tensor(y[:round(n_train * 0.8)], dtype=torch.long)\n",
    "valid_labels = torch.tensor(y[round(n_train * 0.8):], dtype=torch.long)\n",
    "\n",
    "train_features = torch.tensor(all_features[:round(n_train * 0.8)].values, dtype=torch.float32)\n",
    "valid_features = torch.tensor(all_features[round(n_train * 0.8):n_train].values, dtype=torch.float32)\n",
    "\n",
    "test_features = torch.tensor(all_features[n_train:].values, dtype=torch.float32)\n",
    "\n",
    "print(f'training set: {train_features.shape}, \\nvalidation set: {valid_features.shape}, \\ntest set: {test_features.shape}\\n')\n",
    "print(train_labels.shape, valid_labels.shape)"
   ]
  },
  {
   "cell_type": "code",
   "execution_count": 7,
   "metadata": {},
   "outputs": [],
   "source": [
    "class MyDataset(Dataset):\n",
    "    def __init__(self, x, y):\n",
    "        self.x = x\n",
    "        self.y = y\n",
    "    def __len__(self):\n",
    "        return len(self.x)\n",
    "    def __getitem__(self, index):\n",
    "        X = self.x[index]\n",
    "        Y = self.y[index]\n",
    "        return X, Y"
   ]
  },
  {
   "cell_type": "code",
   "execution_count": 8,
   "metadata": {},
   "outputs": [],
   "source": [
    "batch_size = 256\n",
    "train_set = MyDataset(train_features, train_labels)\n",
    "valid_set = MyDataset(valid_features, valid_labels)\n",
    "train_loader = DataLoader(train_set, batch_size=batch_size, shuffle=True)\n",
    "valid_loader = DataLoader(valid_set, batch_size=batch_size, shuffle=True)"
   ]
  },
  {
   "cell_type": "markdown",
   "metadata": {},
   "source": [
    "## 定义模型"
   ]
  },
  {
   "cell_type": "code",
   "execution_count": 9,
   "metadata": {},
   "outputs": [
    {
     "data": {
      "text/plain": [
       "Sequential(\n",
       "  (0): Linear(in_features=10, out_features=128, bias=True)\n",
       "  (1): ReLU()\n",
       "  (2): Linear(in_features=128, out_features=2, bias=True)\n",
       ")"
      ]
     },
     "execution_count": 9,
     "metadata": {},
     "output_type": "execute_result"
    }
   ],
   "source": [
    "loss = nn.CrossEntropyLoss()\n",
    "in_features = train_features.shape[1]\n",
    "\n",
    "# binary classification\n",
    "model = nn.Sequential(\n",
    "    nn.Linear(in_features, 128),\n",
    "    nn.ReLU(),\n",
    "    nn.Linear(128, 2),\n",
    "    # nn.ReLU(),\n",
    "    # nn.Linear(96, 96),\n",
    "    # nn.ReLU(),\n",
    "    # nn.Linear(96, 96),\n",
    "    # nn.ReLU(),\n",
    "    # nn.Linear(96, 64),\n",
    "    # nn.ReLU(),\n",
    "    # nn.Linear(64, 2),\n",
    ")\n",
    "\n",
    "def init_weight(m):\n",
    "    if type(m) == nn.Linear:\n",
    "        nn.init.xavier_normal_(m.weight)\n",
    "model.apply(init_weight)"
   ]
  },
  {
   "cell_type": "code",
   "execution_count": 10,
   "metadata": {},
   "outputs": [],
   "source": [
    "def train(model, num_epochs, lr, weight_decay):\n",
    "    train_ls, valid_ls = [], []\n",
    "    optimzer = torch.optim.Adam(model.parameters(), lr=lr, weight_decay=weight_decay)\n",
    "\n",
    "    for epoch in range(num_epochs):\n",
    "        train_loss = 0.0\n",
    "        valid_loss = 0.0\n",
    "\n",
    "        model.train()\n",
    "        for i, data in enumerate(train_loader):\n",
    "            optimzer.zero_grad()\n",
    "            y_hat = model(data[0])\n",
    "            y = data[1]\n",
    "            # print(y_hat.shape, y.shape)\n",
    "            # print(loss(y_hat, y).item())\n",
    "            batch_loss = loss(y_hat, y)\n",
    "            batch_loss.backward()\n",
    "            optimzer.step()\n",
    "            train_loss += batch_loss.item()\n",
    "\n",
    "        model.eval()\n",
    "        with torch.no_grad():\n",
    "            for i, data in enumerate(valid_loader):\n",
    "                y_hat = model(data[0])\n",
    "                y = data[1]\n",
    "                valid_loss += batch_loss.item()\n",
    "            \n",
    "            train_ls.append(train_loss/train_set.__len__())\n",
    "            valid_ls.append(valid_loss/valid_set.__len__())\n",
    "            #將結果 print 出來\n",
    "            # print(f'[{epoch+1}/{num_epochs}] average train loss: {train_loss/train_set.__len__()} | average valid loss: {valid_loss/valid_set.__len__()}')\n",
    "    \n",
    "    return train_ls, valid_ls"
   ]
  },
  {
   "cell_type": "markdown",
   "metadata": {},
   "source": [
    "## k-fold corss validation"
   ]
  },
  {
   "cell_type": "markdown",
   "metadata": {},
   "source": [
    "## 训练"
   ]
  },
  {
   "cell_type": "code",
   "execution_count": 11,
   "metadata": {},
   "outputs": [
    {
     "name": "stdout",
     "output_type": "stream",
     "text": [
      "0.001605941528692152 \n",
      " 0.0018914983178792374\n"
     ]
    },
    {
     "data": {
      "image/png": "[encoded data removed]",
      "text/plain": [
       "<Figure size 432x288 with 1 Axes>"
      ]
     },
     "metadata": {
      "needs_background": "light"
     },
     "output_type": "display_data"
    }
   ],
   "source": [
    "k, num_epochs, lr, weight_decay = 5, 30, 0.1, 0\n",
    "train_ls, valid_ls = train(model, num_epochs, lr, weight_decay)\n",
    "plt.plot(range(len(train_ls)), train_ls, valid_ls)\n",
    "print(f'{train_ls[-1]} \\n {valid_ls[-1]}')\n",
    "# train_l, valid_l = k_fold(k, train_features, train_labels, num_epochs, lr, weight_decay, batch_size)"
   ]
  },
  {
   "cell_type": "code",
   "execution_count": 12,
   "metadata": {},
   "outputs": [
    {
     "name": "stdout",
     "output_type": "stream",
     "text": [
      "0.8625525946704067\n",
      "0.8820224719101124\n"
     ]
    }
   ],
   "source": [
    "def accuracy(y_hat, y):\n",
    "    \"\"\"计算预测正确的数量。\"\"\"\n",
    "    if len(y_hat.shape) > 1 and y_hat.shape[1] > 1:\n",
    "        y_hat = y_hat.argmax(axis=1)\n",
    "    cmp = y_hat.type(y.dtype) == y\n",
    "    return float(cmp.type(y.dtype).sum())\n",
    "\n",
    "print(accuracy(model(train_features), train_labels) / len(train_labels))\n",
    "print(accuracy(model(valid_features), valid_labels) / len(valid_labels))"
   ]
  },
  {
   "cell_type": "markdown",
   "metadata": {},
   "source": [
    "将全部数据对模型进行二次训练"
   ]
  },
  {
   "cell_type": "code",
   "execution_count": 13,
   "metadata": {},
   "outputs": [
    {
     "name": "stdout",
     "output_type": "stream",
     "text": [
      "0.0017937602786161789\n",
      "0.8709315375982043\n"
     ]
    },
    {
     "data": {
      "image/png": "[encoded data removed]",
      "text/plain": [
       "<Figure size 432x288 with 1 Axes>"
      ]
     },
     "metadata": {
      "needs_background": "light"
     },
     "output_type": "display_data"
    }
   ],
   "source": [
    "X = np.concatenate((train_features, valid_features), axis=0)\n",
    "Y = np.concatenate((train_labels, valid_labels), axis=0)\n",
    "all_set = MyDataset(X, Y)\n",
    "all_loader = DataLoader(all_set, batch_size=batch_size, shuffle=True)\n",
    "\n",
    "def train(model, num_epochs, lr, weight_decay):\n",
    "    train_ls = []\n",
    "    optimzer = torch.optim.Adam(model.parameters(), lr=lr, weight_decay=weight_decay)\n",
    "    for epoch in range(num_epochs):\n",
    "        train_loss = 0.0\n",
    "        for i, data in enumerate(all_loader):\n",
    "            optimzer.zero_grad()\n",
    "            y_hat = model(data[0])\n",
    "            y = data[1]\n",
    "            batch_loss = loss(y_hat, y)\n",
    "            batch_loss.backward()\n",
    "            optimzer.step()\n",
    "            train_loss += batch_loss.item()\n",
    "        train_ls.append(train_loss/train_set.__len__())\n",
    "    return train_ls\n",
    "\n",
    "# X.shape, Y.shape\n",
    "num_epochs, lr, weight_decay = 30, 0.1, 0\n",
    "train_ls = train(model, num_epochs, lr, weight_decay)\n",
    "plt.plot(range(len(train_ls)), train_ls)\n",
    "print(f'{train_ls[-1]}')\n",
    "print(accuracy(model(torch.tensor(X)), torch.tensor(Y)) / len(Y))"
   ]
  },
  {
   "cell_type": "markdown",
   "metadata": {},
   "source": [
    "## 预测"
   ]
  },
  {
   "cell_type": "code",
   "execution_count": 14,
   "metadata": {},
   "outputs": [],
   "source": [
    "test_loader = DataLoader(test_features, batch_size=batch_size, shuffle=False)\n",
    "model.eval()\n",
    "prediction = []\n",
    "with torch.no_grad():\n",
    "  for i, data in enumerate(test_loader):\n",
    "    test_pred = model(data)\n",
    "    test_label = np.argmax(test_pred.data.numpy(), axis=1)\n",
    "    for y in test_label:\n",
    "      prediction.append(y)"
   ]
  },
  {
   "cell_type": "code",
   "execution_count": 15,
   "metadata": {},
   "outputs": [],
   "source": [
    "# 结果写入csv\n",
    "with open('prediction.csv', 'w') as f:\n",
    "  f.write('PassengerId,Survived\\n')\n",
    "  for i, y in enumerate(prediction):\n",
    "    f.write('{},{}\\n'.format(i+892, y))"
   ]
  }
 ],
 "metadata": {
  "interpreter": {
   "hash": "40d3a090f54c6569ab1632332b64b2c03c39dcf918b08424e98f38b5ae0af88f"
  },
  "kernelspec": {
   "display_name": "Python 3.8.11 64-bit ('base': conda)",
   "name": "python3"
  },
  "language_info": {
   "codemirror_mode": {
    "name": "ipython",
    "version": 3
   },
   "file_extension": ".py",
   "mimetype": "text/x-python",
   "name": "python",
   "nbconvert_exporter": "python",
   "pygments_lexer": "ipython3",
   "version": "3.8.11"
  },
  "orig_nbformat": 4
 },
 "nbformat": 4,
 "nbformat_minor": 2
}
